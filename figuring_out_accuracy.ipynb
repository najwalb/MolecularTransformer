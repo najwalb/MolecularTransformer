{
 "cells": [
  {
   "cell_type": "code",
   "execution_count": 79,
   "metadata": {},
   "outputs": [],
   "source": [
    "import pandas as pd\n",
    "from rdkit import Chem\n",
    "import re\n",
    "from matplotlib import pyplot as plt"
   ]
  },
  {
   "cell_type": "code",
   "execution_count": 8,
   "metadata": {},
   "outputs": [],
   "source": [
    "def atom_count(smi):\n",
    "    atoms = [a for a in Chem.MolFromSmiles(smi).GetAtoms()]\n",
    "    \n",
    "    return len(atoms)\n",
    "\n",
    "def remove_charges_func(reactant):\n",
    "    # Regular expression to match charges (+, -, and numerical charges like +2, -3, etc.)\n",
    "    charge_pattern = re.compile(r'(\\d+)?[\\+\\-]')\n",
    "    # Remove charges from the reactant string\n",
    "    cleaned_reactant = re.sub(charge_pattern, '', reactant)\n",
    "    # print(reactant, cleaned_reactant)\n",
    "    return cleaned_reactant\n",
    "\n",
    "def reconstruct_mol_from_atoms_and_bonds_only(old_mol, return_smi=False):\n",
    "    if type(old_mol)==str: old_mol = Chem.MolFromSmiles(old_mol)\n",
    "    if old_mol is np.nan: return None\n",
    "    #print(f'old_mol: {old_mol}')\n",
    "    \n",
    "    # create atoms based on labels only\n",
    "    atoms = [a.GetSymbol() for a in old_mol.GetAtoms()]\n",
    "    bonds = [(b.GetBeginAtom().GetIdx(),b.GetEndAtom().GetIdx(),b.GetBondType()) for b in old_mol.GetBonds()]\n",
    "    new_mol = Chem.RWMol()\n",
    "    for a in atoms: new_mol.AddAtom(Chem.Atom(a))\n",
    "    for beg_atom_idx, end_atom_idx, bond_type in bonds: new_mol.AddBond(beg_atom_idx, end_atom_idx, bond_type)\n",
    "    \n",
    "    if return_smi: return Chem.MolToSmiles(new_mol)\n",
    "    \n",
    "    return new_mol"
   ]
  },
  {
   "cell_type": "code",
   "execution_count": 56,
   "metadata": {},
   "outputs": [],
   "source": [
    "common_samples_from_rb_path = '/Users/laabidn1/MolecularTransformer/data/rb_vs_7ck620/samples_from_rb_in_common.csv'\n",
    "common_samples_from_7ck620_path = '/Users/laabidn1/MolecularTransformer/data/rb_vs_7ck620/samples_from_7ck620_in_common.csv'\n",
    "samples_from_7ck620_path = '/Users/laabidn1/MolecularTransformer/data/rb_vs_7ck620/samples_from_7ck620.csv'"
   ]
  },
  {
   "cell_type": "code",
   "execution_count": 105,
   "metadata": {},
   "outputs": [],
   "source": [
    "samples_from_rb_in_common = pd.read_csv(common_samples_from_rb_path, index_col=0, delimiter=',')\n",
    "samples_from_7ck620_in_common = pd.read_csv(common_samples_from_7ck620_path, index_col=0, delimiter=',')\n",
    "samples_from_7ck620 = pd.read_csv(samples_from_7ck620_path)"
   ]
  },
  {
   "cell_type": "code",
   "execution_count": 61,
   "metadata": {},
   "outputs": [
    {
     "data": {
      "text/plain": [
       "4945"
      ]
     },
     "execution_count": 61,
     "metadata": {},
     "output_type": "execute_result"
    }
   ],
   "source": [
    "samples_from_7ck620 = samples_from_7ck620.dropna(axis=0)\n",
    "samples_from_7ck620_in_common = samples_from_7ck620_in_common.dropna(axis=0)\n",
    "samples_from_7ck620['product'].nunique()\n"
   ]
  },
  {
   "cell_type": "code",
   "execution_count": null,
   "metadata": {},
   "outputs": [],
   "source": [
    "# reconstruct prediction in 7ck620\n",
    "samples_from_7ck620_in_common['pred'] = samples_from_7ck620_in_common['pred'].apply(lambda x: reconstruct_mol_from_atoms_and_bonds_only(x,return_smi=True))"
   ]
  },
  {
   "cell_type": "code",
   "execution_count": 65,
   "metadata": {},
   "outputs": [
    {
     "data": {
      "text/plain": [
       "0"
      ]
     },
     "execution_count": 65,
     "metadata": {},
     "output_type": "execute_result"
    }
   ],
   "source": [
    "samples_from_7ck620_in_common['pred'].str.contains('@').sum()"
   ]
  },
  {
   "cell_type": "code",
   "execution_count": null,
   "metadata": {},
   "outputs": [],
   "source": [
    "# reconstruct prediction in 7ck620\n",
    "samples_from_7ck620_in_common['true'] = samples_from_7ck620_in_common['true'].apply(lambda x: reconstruct_mol_from_atoms_and_bonds_only(x,return_smi=True))"
   ]
  },
  {
   "cell_type": "code",
   "execution_count": null,
   "metadata": {},
   "outputs": [],
   "source": [
    "# reconstruct prediction in 7ck620\n",
    "samples_from_7ck620_in_common['pred_product'] = samples_from_7ck620_in_common['pred_product'].apply(lambda x: reconstruct_mol_from_atoms_and_bonds_only(x,return_smi=True))"
   ]
  },
  {
   "cell_type": "code",
   "execution_count": 68,
   "metadata": {},
   "outputs": [],
   "source": [
    "samples_from_7ck620_in_common.to_csv('/Users/laabidn1/MolecularTransformer/data/rb_vs_7ck620/samples_from_7ck620_in_common_all_from_atoms.csv')"
   ]
  },
  {
   "cell_type": "code",
   "execution_count": 74,
   "metadata": {},
   "outputs": [],
   "source": [
    "nb_unique_predictions_per_product = samples_from_7ck620_in_common.groupby('product').agg({'pred':'size'})['pred'].unique()"
   ]
  },
  {
   "cell_type": "code",
   "execution_count": 121,
   "metadata": {},
   "outputs": [
    {
     "data": {
      "text/plain": [
       "109747"
      ]
     },
     "execution_count": 121,
     "metadata": {},
     "output_type": "execute_result"
    }
   ],
   "source": [
    "grouped_7ck620 = samples_from_7ck620_in_common.groupby('product').agg({'pred':'nunique'})['pred']\n",
    "sum(grouped_7ck620)"
   ]
  },
  {
   "cell_type": "code",
   "execution_count": 123,
   "metadata": {},
   "outputs": [
    {
     "data": {
      "text/plain": [
       "(488600, 12)"
      ]
     },
     "execution_count": 123,
     "metadata": {},
     "output_type": "execute_result"
    }
   ],
   "source": [
    "samples_from_7ck620_in_common.shape"
   ]
  },
  {
   "cell_type": "code",
   "execution_count": 122,
   "metadata": {},
   "outputs": [
    {
     "data": {
      "text/plain": [
       "77465"
      ]
     },
     "execution_count": 122,
     "metadata": {},
     "output_type": "execute_result"
    }
   ],
   "source": [
    "grouped_rb_samples = samples_from_rb_in_common.groupby('product').agg({'pred':'nunique'})['pred']\n",
    "sum(grouped_rb_samples)"
   ]
  },
  {
   "cell_type": "code",
   "execution_count": 125,
   "metadata": {},
   "outputs": [
    {
     "data": {
      "text/plain": [
       "(488700, 10)"
      ]
     },
     "execution_count": 125,
     "metadata": {},
     "output_type": "execute_result"
    }
   ],
   "source": [
    "samples_from_rb_in_common.shape # has more duplicates"
   ]
  },
  {
   "cell_type": "code",
   "execution_count": 111,
   "metadata": {},
   "outputs": [
    {
     "data": {
      "image/png": "[encoded data removed]",
      "text/plain": [
       "<Figure size 640x480 with 1 Axes>"
      ]
     },
     "metadata": {},
     "output_type": "display_data"
    }
   ],
   "source": [
    "plt.hist(grouped_7ck620,alpha=0.5,label='7ck620');\n",
    "plt.hist(grouped_rb_samples,alpha=0.5,label='rb');\n",
    "plt.legend();"
   ]
  },
  {
   "cell_type": "code",
   "execution_count": null,
   "metadata": {},
   "outputs": [],
   "source": [
    "# reconstruct prediction in 7ck620\n",
    "samples_from_rb_df['true'] = samples_from_rb_df['true'].apply(lambda x: reconstruct_mol_from_atoms_and_bonds_only(x,return_smi=True))"
   ]
  },
  {
   "cell_type": "code",
   "execution_count": null,
   "metadata": {},
   "outputs": [],
   "source": [
    "# get count of unique samples per product => histogram per product, or for the same product in all files\n",
    "# be careful with canonicalization etc"
   ]
  },
  {
   "cell_type": "code",
   "execution_count": null,
   "metadata": {},
   "outputs": [],
   "source": [
    "# isolate data with exceptionally low unique sample counts/bad round_trip match numbers\n"
   ]
  }
 ],
 "metadata": {
  "kernelspec": {
   "display_name": "mol_transformer",
   "language": "python",
   "name": "python3"
  },
  "language_info": {
   "codemirror_mode": {
    "name": "ipython",
    "version": 3
   },
   "file_extension": ".py",
   "mimetype": "text/x-python",
   "name": "python",
   "nbconvert_exporter": "python",
   "pygments_lexer": "ipython3",
   "version": "3.11.8"
  }
 },
 "nbformat": 4,
 "nbformat_minor": 2
}
