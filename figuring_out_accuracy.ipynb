{
 "cells": [
  {
   "cell_type": "code",
   "execution_count": 315,
   "metadata": {},
   "outputs": [],
   "source": [
    "\n",
    "import pandas as pd\n",
    "from rdkit import Chem\n",
    "import re\n",
    "from matplotlib import pyplot as plt\n",
    "import numpy as np\n",
    "from functools import partial"
   ]
  },
  {
   "cell_type": "code",
   "execution_count": 357,
   "metadata": {},
   "outputs": [],
   "source": [
    "def atom_count(smi):\n",
    "    atoms = [a for a in Chem.MolFromSmiles(smi).GetAtoms()]\n",
    "    \n",
    "    return len(atoms)\n",
    "\n",
    "def remove_charges_func(reactant):\n",
    "    # Regular expression to match charges (+, -, and numerical charges like +2, -3, etc.)\n",
    "    charge_pattern = re.compile(r'(\\d+)?[\\+\\-]')\n",
    "    # Remove charges from the reactant string\n",
    "    cleaned_reactant = re.sub(charge_pattern, '', reactant)\n",
    "    # print(reactant, cleaned_reactant)\n",
    "    return cleaned_reactant\n",
    "\n",
    "def reconstruct_mol_from_atoms_and_bonds_only(old_mol, return_smi=False):\n",
    "    # below handles the case of empty molecule smi read from the file => becomes np.nan in pandas dataframe\n",
    "    #print(f'old_mol: {old_mol}, type: {pd.isna(old_mol)}\\n')\n",
    "    if pd.isna(old_mol): return '' if return_smi else None\n",
    "    old_smi = '' # in case old_mol is given as None and we need to return SMILES\n",
    "    if type(old_mol)==str: \n",
    "        old_smi = old_mol\n",
    "        old_mol = Chem.MolFromSmiles(old_mol)\n",
    "        \n",
    "    if old_mol is None: return old_smi if return_smi else None\n",
    "    \n",
    "    # create atoms based on labels only\n",
    "    atoms = [a.GetSymbol() for a in old_mol.GetAtoms()]\n",
    "    bonds = [(b.GetBeginAtom().GetIdx(),b.GetEndAtom().GetIdx(),b.GetBondType()) for b in old_mol.GetBonds()]\n",
    "    new_mol = Chem.RWMol()\n",
    "    for a in atoms: new_mol.AddAtom(Chem.Atom(a))\n",
    "    for beg_atom_idx, end_atom_idx, bond_type in bonds: new_mol.AddBond(beg_atom_idx, end_atom_idx, bond_type)\n",
    "    \n",
    "    if return_smi: return Chem.MolToSmiles(new_mol)\n",
    "    \n",
    "    return new_mol\n",
    "\n",
    "def _assign_groups(df, samples_per_product):\n",
    "    # group is the number of conditioning product\n",
    "    # for test data: group is [0,5006], with each 10 samples having the same index\n",
    "    df['group'] = np.arange(len(df)) // samples_per_product\n",
    "    \n",
    "    return df\n",
    "\n",
    "def assign_groups(df, samples_per_product_per_file=10):\n",
    "    # what does partial do here?\n",
    "    # it's a way to fix a function's arguments to a specific value\n",
    "    # what happens if we group by from_file then by group?\n",
    "    # for each file, we assign numbers 0...nb_product_in_subset to each group of 10 samples \n",
    "    # (i.e. assign the index of the product to each group of 10 samples)\n",
    "    df = df.groupby('from_file', group_keys=False).apply(partial(_assign_groups, samples_per_product=samples_per_product_per_file))\n",
    "    \n",
    "    return df\n",
    "\n",
    "def compute_confidence(df, group_key='product'):\n",
    "    '''\n",
    "        Taken from retrobridge and modified in the following ways:\n",
    "            1. renamed the columns to avoid confusion with stuff we computed before\n",
    "            2. removed the group_size computation as it's not used since we compute it already to normalize the counts\n",
    "    \n",
    "    '''\n",
    "    \n",
    "    # count the number of times a prediction is made for a given product/group => repetitions!!\n",
    "    counts = df.groupby([group_key, 'pred'], group_keys=False).size().reset_index(name='new_counts') \n",
    "    # group = single product => count the number of predictions we get per product => nb_samples_per_product\n",
    "    # group_size = df.groupby([group_key], group_keys=False).size().reset_index(name='n_samples_per_product') # shld be 100 in paper experiments\n",
    "\n",
    "    ## Don't use .merge() as it can change the order of rows\n",
    "    # df = df.merge(counts, on=['group', 'pred'], how='left')\n",
    "    # df = df.merge(counts, on=['group', 'pred'], how='inner')\n",
    "    # df = df.merge(group_size, on=['group'], how='left')\n",
    "    \n",
    "    counts_dict = {(g, p): c for g, p, c in zip(counts[group_key], counts['pred'], counts['new_counts'])}\n",
    "    df['new_counts'] = df.apply(lambda x: counts_dict[(x[group_key], x['pred'])], axis=1)\n",
    "\n",
    "    # size_dict = {g: s for g, s in zip(group_size[group_key], group_size['n_samples_per_product'])}\n",
    "    # df['n_samples_per_product'] = df.apply(lambda x: size_dict[x[group_key]], axis=1)\n",
    "\n",
    "    # how many times the same prediction is made for a given product\n",
    "    df['confidence'] = df['new_counts'] / df['n_samples_per_product']\n",
    "\n",
    "    # sanity check\n",
    "    # what does nunique do?\n",
    "    # it counts the number of unique values in a series: all product_pred have the same confidence value\n",
    "    # all groups have the same group_size (n_samples is the same for all products)\n",
    "    assert (df.groupby([group_key, 'pred'], group_keys=False)['confidence'].nunique() == 1).all()\n",
    "    assert (df.groupby([group_key], group_keys=False)['n_samples_per_product'].nunique() == 1).all()\n",
    "\n",
    "    return df\n",
    "\n",
    "def compute_confidence_like_rb(df):\n",
    "    # count the number of times a prediction is made for a given product/group => repetitions!!\n",
    "    counts = df.groupby(['group', 'pred'], group_keys=False).size().reset_index(name='count') \n",
    "    # group = single product => count the number of predictions we get per product => nb_samples_per_product\n",
    "    group_size = df.groupby(['group'], group_keys=False).size().reset_index(name='group_size') # shld be 100 in paper experiments\n",
    "\n",
    "    #     # Don't use .merge() as it can change the order of rows\n",
    "    ##     df = df.merge(counts, on=['group', 'pred'], how='left')\n",
    "    #     df = df.merge(counts, on=['group', 'pred'], how='inner')\n",
    "    #     df = df.merge(group_size, on=['group'], how='left')\n",
    "    \n",
    "    counts_dict = {(g, p): c for g, p, c in zip(counts['group'], counts['pred'], counts['count'])}\n",
    "    df['count'] = df.apply(lambda x: counts_dict[(x['group'], x['pred'])], axis=1)\n",
    "\n",
    "    size_dict = {g: s for g, s in zip(group_size['group'], group_size['group_size'])}\n",
    "    df['group_size'] = df.apply(lambda x: size_dict[x['group']], axis=1)\n",
    "\n",
    "    # how many times the same prediction is made for a given product\n",
    "    df['confidence'] = df['count'] / df['group_size']\n",
    "\n",
    "    # sanity check\n",
    "    # what does nunique do?\n",
    "    # it counts the number of unique values in a series: all product_pred have the same confidence value\n",
    "    # all groups have the same group_size (n_samples is the same for all products)\n",
    "    assert (df.groupby(['group', 'pred'], group_keys=False)['confidence'].nunique() == 1).all()\n",
    "    assert (df.groupby(['group'], group_keys=False)['group_size'].nunique() == 1).all()\n",
    "\n",
    "    return df"
   ]
  },
  {
   "cell_type": "code",
   "execution_count": 208,
   "metadata": {},
   "outputs": [],
   "source": [
    "common_samples_from_rb_path = '/Users/laabidn1/MolecularTransformer/data/rb_vs_7ck620/samples_from_rb_in_common.csv'\n",
    "common_samples_from_7ck620_path = '/Users/laabidn1/MolecularTransformer/data/rb_vs_7ck620/samples_from_7ck620_in_common.csv'\n",
    "samples_from_rb_path = '/Users/laabidn1/MolecularTransformer/data/retrobridge/retrobridge_samples.csv'"
   ]
  },
  {
   "cell_type": "code",
   "execution_count": 187,
   "metadata": {},
   "outputs": [],
   "source": [
    "samples_from_7ck620_path = '/Users/laabidn1/MolecularTransformer/data/rb_vs_7ck620/samples_from_7ck620_no_proc.csv'"
   ]
  },
  {
   "cell_type": "markdown",
   "metadata": {},
   "source": [
    "# Grouping by group vs product"
   ]
  },
  {
   "cell_type": "markdown",
   "metadata": {},
   "source": [
    "Group considers the 7 duplicated products to be unique: i.e. it assigns different group indices to each product. This affects the results a little bit (see first example in `notes-on-results.md`). It seems like the fact that the two groups represent different seed results in considerably different samples (see cells below). Which in practice means more products => more chances for errors => lower accuracy/coverage metrics (but only slightly)."
   ]
  },
  {
   "cell_type": "code",
   "execution_count": 300,
   "metadata": {},
   "outputs": [
    {
     "data": {
      "text/plain": [
       "array(['epoch=779_top_5_accuracy=0.758_T=500_n=10_seed=0.csv',\n",
       "       'epoch=779_top_5_accuracy=0.758_T=500_n=10_seed=1.csv',\n",
       "       'epoch=779_top_5_accuracy=0.758_T=500_n=10_seed=10.csv',\n",
       "       'epoch=779_top_5_accuracy=0.758_T=500_n=10_seed=2.csv',\n",
       "       'epoch=779_top_5_accuracy=0.758_T=500_n=10_seed=4.csv',\n",
       "       'epoch=779_top_5_accuracy=0.758_T=500_n=10_seed=5.csv',\n",
       "       'epoch=779_top_5_accuracy=0.758_T=500_n=10_seed=6.csv',\n",
       "       'epoch=779_top_5_accuracy=0.758_T=500_n=10_seed=7.csv',\n",
       "       'epoch=779_top_5_accuracy=0.758_T=500_n=10_seed=8.csv',\n",
       "       'epoch=779_top_5_accuracy=0.758_T=500_n=10_seed=9.csv'],\n",
       "      dtype=object)"
      ]
     },
     "execution_count": 300,
     "metadata": {},
     "output_type": "execute_result"
    }
   ],
   "source": [
    "samples_from_rb_path = '/Users/laabidn1/MolecularTransformer/data/retrobridge/retrobridge_samples.csv'\n",
    "rb_df = pd.read_csv(samples_from_rb_path)\n",
    "rb_df['from_file'].unique()"
   ]
  },
  {
   "cell_type": "code",
   "execution_count": 304,
   "metadata": {},
   "outputs": [
    {
     "data": {
      "text/html": [
       "<div>\n",
       "<style scoped>\n",
       "    .dataframe tbody tr th:only-of-type {\n",
       "        vertical-align: middle;\n",
       "    }\n",
       "\n",
       "    .dataframe tbody tr th {\n",
       "        vertical-align: top;\n",
       "    }\n",
       "\n",
       "    .dataframe thead th {\n",
       "        text-align: right;\n",
       "    }\n",
       "</style>\n",
       "<table border=\"1\" class=\"dataframe\">\n",
       "  <thead>\n",
       "    <tr style=\"text-align: right;\">\n",
       "      <th></th>\n",
       "      <th>product</th>\n",
       "      <th>pred</th>\n",
       "    </tr>\n",
       "    <tr>\n",
       "      <th>from_file</th>\n",
       "      <th></th>\n",
       "      <th></th>\n",
       "    </tr>\n",
       "  </thead>\n",
       "  <tbody>\n",
       "    <tr>\n",
       "      <th>epoch=779_top_5_accuracy=0.758_T=500_n=10_seed=0.csv</th>\n",
       "      <td>4938</td>\n",
       "      <td>50070</td>\n",
       "    </tr>\n",
       "    <tr>\n",
       "      <th>epoch=779_top_5_accuracy=0.758_T=500_n=10_seed=1.csv</th>\n",
       "      <td>4938</td>\n",
       "      <td>50070</td>\n",
       "    </tr>\n",
       "    <tr>\n",
       "      <th>epoch=779_top_5_accuracy=0.758_T=500_n=10_seed=10.csv</th>\n",
       "      <td>4938</td>\n",
       "      <td>50070</td>\n",
       "    </tr>\n",
       "    <tr>\n",
       "      <th>epoch=779_top_5_accuracy=0.758_T=500_n=10_seed=2.csv</th>\n",
       "      <td>4938</td>\n",
       "      <td>50070</td>\n",
       "    </tr>\n",
       "    <tr>\n",
       "      <th>epoch=779_top_5_accuracy=0.758_T=500_n=10_seed=4.csv</th>\n",
       "      <td>4938</td>\n",
       "      <td>50070</td>\n",
       "    </tr>\n",
       "    <tr>\n",
       "      <th>epoch=779_top_5_accuracy=0.758_T=500_n=10_seed=5.csv</th>\n",
       "      <td>4938</td>\n",
       "      <td>50070</td>\n",
       "    </tr>\n",
       "    <tr>\n",
       "      <th>epoch=779_top_5_accuracy=0.758_T=500_n=10_seed=6.csv</th>\n",
       "      <td>4938</td>\n",
       "      <td>50070</td>\n",
       "    </tr>\n",
       "    <tr>\n",
       "      <th>epoch=779_top_5_accuracy=0.758_T=500_n=10_seed=7.csv</th>\n",
       "      <td>4938</td>\n",
       "      <td>50070</td>\n",
       "    </tr>\n",
       "    <tr>\n",
       "      <th>epoch=779_top_5_accuracy=0.758_T=500_n=10_seed=8.csv</th>\n",
       "      <td>4938</td>\n",
       "      <td>50070</td>\n",
       "    </tr>\n",
       "    <tr>\n",
       "      <th>epoch=779_top_5_accuracy=0.758_T=500_n=10_seed=9.csv</th>\n",
       "      <td>4938</td>\n",
       "      <td>50070</td>\n",
       "    </tr>\n",
       "  </tbody>\n",
       "</table>\n",
       "</div>"
      ],
      "text/plain": [
       "                                                    product   pred\n",
       "from_file                                                         \n",
       "epoch=779_top_5_accuracy=0.758_T=500_n=10_seed=...     4938  50070\n",
       "epoch=779_top_5_accuracy=0.758_T=500_n=10_seed=...     4938  50070\n",
       "epoch=779_top_5_accuracy=0.758_T=500_n=10_seed=...     4938  50070\n",
       "epoch=779_top_5_accuracy=0.758_T=500_n=10_seed=...     4938  50070\n",
       "epoch=779_top_5_accuracy=0.758_T=500_n=10_seed=...     4938  50070\n",
       "epoch=779_top_5_accuracy=0.758_T=500_n=10_seed=...     4938  50070\n",
       "epoch=779_top_5_accuracy=0.758_T=500_n=10_seed=...     4938  50070\n",
       "epoch=779_top_5_accuracy=0.758_T=500_n=10_seed=...     4938  50070\n",
       "epoch=779_top_5_accuracy=0.758_T=500_n=10_seed=...     4938  50070\n",
       "epoch=779_top_5_accuracy=0.758_T=500_n=10_seed=...     4938  50070"
      ]
     },
     "execution_count": 304,
     "metadata": {},
     "output_type": "execute_result"
    }
   ],
   "source": [
    "rb_df.groupby('from_file').agg({'product':'nunique','pred':'nunique'})"
   ]
  },
  {
   "cell_type": "code",
   "execution_count": 308,
   "metadata": {},
   "outputs": [
    {
     "data": {
      "text/plain": [
       "array([10, 20])"
      ]
     },
     "execution_count": 308,
     "metadata": {},
     "output_type": "execute_result"
    }
   ],
   "source": [
    "# 10 samples per file for each product, 20 comes from duplicated products\n",
    "rb_df[rb_df['product']!='C'].groupby(['from_file', 'product']).size().unique()"
   ]
  },
  {
   "cell_type": "code",
   "execution_count": 310,
   "metadata": {},
   "outputs": [
    {
     "data": {
      "text/plain": [
       "array([50070])"
      ]
     },
     "execution_count": 310,
     "metadata": {},
     "output_type": "execute_result"
    }
   ],
   "source": [
    "rb_df.groupby(['from_file']).size().unique()"
   ]
  },
  {
   "cell_type": "code",
   "execution_count": 311,
   "metadata": {},
   "outputs": [
    {
     "data": {
      "text/plain": [
       "(500700, 10)"
      ]
     },
     "execution_count": 311,
     "metadata": {},
     "output_type": "execute_result"
    }
   ],
   "source": [
    "rb_df.shape"
   ]
  },
  {
   "cell_type": "code",
   "execution_count": 316,
   "metadata": {},
   "outputs": [],
   "source": [
    "rb_df = assign_groups(rb_df, samples_per_product_per_file=10)"
   ]
  },
  {
   "cell_type": "code",
   "execution_count": 339,
   "metadata": {},
   "outputs": [
    {
     "data": {
      "text/plain": [
       "5007"
      ]
     },
     "execution_count": 339,
     "metadata": {},
     "output_type": "execute_result"
    }
   ],
   "source": [
    "rb_df['group'].nunique()"
   ]
  },
  {
   "cell_type": "code",
   "execution_count": 354,
   "metadata": {},
   "outputs": [
    {
     "data": {
      "text/plain": [
       "5007"
      ]
     },
     "execution_count": 354,
     "metadata": {},
     "output_type": "execute_result"
    }
   ],
   "source": [
    "nb_products_with_one_group = rb_df.groupby('product').agg({'group':'nunique'}).query('group==1').shape[0]\n",
    "nb_products_with_extra_group = rb_df.groupby('product').agg({'group':'nunique'}).query('group==2').shape[0]\n",
    "placeholder = rb_df.groupby('product').agg({'group':'nunique'}).query('product==\"C\"').group.values[0]\n",
    "nb_products_with_one_group+2*nb_products_with_extra_group+placeholder"
   ]
  },
  {
   "cell_type": "code",
   "execution_count": 398,
   "metadata": {},
   "outputs": [
    {
     "data": {
      "text/html": [
       "<div>\n",
       "<style scoped>\n",
       "    .dataframe tbody tr th:only-of-type {\n",
       "        vertical-align: middle;\n",
       "    }\n",
       "\n",
       "    .dataframe tbody tr th {\n",
       "        vertical-align: top;\n",
       "    }\n",
       "\n",
       "    .dataframe thead th {\n",
       "        text-align: right;\n",
       "    }\n",
       "</style>\n",
       "<table border=\"1\" class=\"dataframe\">\n",
       "  <thead>\n",
       "    <tr style=\"text-align: right;\">\n",
       "      <th></th>\n",
       "      <th>group</th>\n",
       "    </tr>\n",
       "    <tr>\n",
       "      <th>product</th>\n",
       "      <th></th>\n",
       "    </tr>\n",
       "  </thead>\n",
       "  <tbody>\n",
       "    <tr>\n",
       "      <th>CC(C)(C)OC(=O)C=C1CCCN(C(=O)OC(C)(C)C)C1</th>\n",
       "      <td>2</td>\n",
       "    </tr>\n",
       "    <tr>\n",
       "      <th>CC(C)(C)OC(=O)N1CCC(CO)CC1</th>\n",
       "      <td>2</td>\n",
       "    </tr>\n",
       "    <tr>\n",
       "      <th>CC(C)(C)OC(=O)N1CCN(C(=O)OC(C)(C)C)C(CO)C1</th>\n",
       "      <td>2</td>\n",
       "    </tr>\n",
       "    <tr>\n",
       "      <th>CCOC(=O)C(C)=CC(C(C)C)N(C)C(=O)C(NC(=O)C(NC)C(C)(C)c1cccs1)C(C)(C)C</th>\n",
       "      <td>2</td>\n",
       "    </tr>\n",
       "    <tr>\n",
       "      <th>N#CCc1ccc(Br)cc1F</th>\n",
       "      <td>2</td>\n",
       "    </tr>\n",
       "    <tr>\n",
       "      <th>O=C(O)CCCCCc1cccc2cncn12</th>\n",
       "      <td>2</td>\n",
       "    </tr>\n",
       "    <tr>\n",
       "      <th>O=N(O)c1cnnc1-c1nc2ccc(CN3CCOCC3)cc2n1</th>\n",
       "      <td>2</td>\n",
       "    </tr>\n",
       "  </tbody>\n",
       "</table>\n",
       "</div>"
      ],
      "text/plain": [
       "                                                    group\n",
       "product                                                  \n",
       "CC(C)(C)OC(=O)C=C1CCCN(C(=O)OC(C)(C)C)C1                2\n",
       "CC(C)(C)OC(=O)N1CCC(CO)CC1                              2\n",
       "CC(C)(C)OC(=O)N1CCN(C(=O)OC(C)(C)C)C(CO)C1              2\n",
       "CCOC(=O)C(C)=CC(C(C)C)N(C)C(=O)C(NC(=O)C(NC)C(C...      2\n",
       "N#CCc1ccc(Br)cc1F                                       2\n",
       "O=C(O)CCCCCc1cccc2cncn12                                2\n",
       "O=N(O)c1cnnc1-c1nc2ccc(CN3CCOCC3)cc2n1                  2"
      ]
     },
     "execution_count": 398,
     "metadata": {},
     "output_type": "execute_result"
    }
   ],
   "source": [
    "# the duplicated products in question\n",
    "rb_df.groupby('product').agg({'group':'nunique'}).query('group==2')"
   ]
  },
  {
   "cell_type": "code",
   "execution_count": 401,
   "metadata": {},
   "outputs": [
    {
     "data": {
      "text/html": [
       "<div>\n",
       "<style scoped>\n",
       "    .dataframe tbody tr th:only-of-type {\n",
       "        vertical-align: middle;\n",
       "    }\n",
       "\n",
       "    .dataframe tbody tr th {\n",
       "        vertical-align: top;\n",
       "    }\n",
       "\n",
       "    .dataframe thead th {\n",
       "        text-align: right;\n",
       "    }\n",
       "</style>\n",
       "<table border=\"1\" class=\"dataframe\">\n",
       "  <thead>\n",
       "    <tr style=\"text-align: right;\">\n",
       "      <th></th>\n",
       "      <th>pred</th>\n",
       "    </tr>\n",
       "    <tr>\n",
       "      <th>group</th>\n",
       "      <th></th>\n",
       "    </tr>\n",
       "  </thead>\n",
       "  <tbody>\n",
       "    <tr>\n",
       "      <th>1771</th>\n",
       "      <td>46</td>\n",
       "    </tr>\n",
       "    <tr>\n",
       "      <th>1772</th>\n",
       "      <td>47</td>\n",
       "    </tr>\n",
       "  </tbody>\n",
       "</table>\n",
       "</div>"
      ],
      "text/plain": [
       "       pred\n",
       "group      \n",
       "1771     46\n",
       "1772     47"
      ]
     },
     "execution_count": 401,
     "metadata": {},
     "output_type": "execute_result"
    }
   ],
   "source": [
    "rb_df[rb_df['product']=='CC(C)(C)OC(=O)C=C1CCCN(C(=O)OC(C)(C)C)C1'].groupby('group').agg({'pred':'nunique'})"
   ]
  },
  {
   "cell_type": "code",
   "execution_count": 406,
   "metadata": {},
   "outputs": [],
   "source": [
    "pred_from_group1 = rb_df[(rb_df['product']=='CC(C)(C)OC(=O)C=C1CCCN(C(=O)OC(C)(C)C)C1')&(rb_df['group']==1771)]['pred']\n",
    "pred_from_group2 = rb_df[(rb_df['product']=='CC(C)(C)OC(=O)C=C1CCCN(C(=O)OC(C)(C)C)C1')&(rb_df['group']==1772)]['pred']"
   ]
  },
  {
   "cell_type": "code",
   "execution_count": 418,
   "metadata": {},
   "outputs": [
    {
     "data": {
      "text/plain": [
       "14"
      ]
     },
     "execution_count": 418,
     "metadata": {},
     "output_type": "execute_result"
    }
   ],
   "source": [
    "# NOTE: interesting: only 12 out of 46/47 samples are common between the two groups\n",
    "len(set(pred_from_group1.unique()).intersection(set(pred_from_group2.unique())))"
   ]
  },
  {
   "cell_type": "code",
   "execution_count": 417,
   "metadata": {},
   "outputs": [
    {
     "data": {
      "text/plain": [
       "array(['C.CC(C)(C)OC(=O)CP1(=O)OCCCO1.CC(C)(C)OC(=O)N1CCCC(=O)C1',\n",
       "       'C.CC(C)(C)OC(=O)N1CCCC(=O)C1.CC1COP(=O)(CC(=O)OC(C)(C)C)O1',\n",
       "       'C.CCO[PH](=O)(CC(=O)OC(C)(C)C)(OCC)C1CCCN(C(=O)OC(C)(C)C)C1.O',\n",
       "       'C1CCNCC1.CC(=O)OC(C)(C)C.CC(C)OC(C)(=O)OC(=O)OC(C)(C)C',\n",
       "       'C=C(C)(C)C(=O)(O)C=C1CCCN(C(=O)OC(C)(C)C)C1',\n",
       "       'CC(C)(C)O.CC(C)(C)OC(=O)C=C1CCCN(C(=O)O)C1',\n",
       "       'CC(C)(C)O.CC(C)(C)OC(=O)N1CCCC(=CC(=O)Cl)C1',\n",
       "       'CC(C)(C)O.CC(C)(C)OC(=O)N1CCCC(=CC(=O)O)C1',\n",
       "       'CC(C)(C)OC(=O)C=C1(=O)CCCNC1.CC(C)OC(O)OC(=O)OC(C)(C)C',\n",
       "       'CC(C)(C)OC(=O)C=C1(=O=C(O)(OC(=O)OC(C)(C)C)OC(C)(C)C)CCCNC1'],\n",
       "      dtype=object)"
      ]
     },
     "execution_count": 417,
     "metadata": {},
     "output_type": "execute_result"
    }
   ],
   "source": [
    "pred_from_group1.sort_values().unique()[:10]"
   ]
  },
  {
   "cell_type": "code",
   "execution_count": 419,
   "metadata": {},
   "outputs": [
    {
     "data": {
      "text/plain": [
       "array(['C.C=C1CCCNC1.CC(C)(C)OC=O.CCOP(=O)(O)CC(=O)OC(C)(C)C.O',\n",
       "       'C.CC(C)(C)OC(=O)CP1(=O)OCCCO1.CC(C)(C)OC(=O)N1CCCC(=O)C1',\n",
       "       'C.CC(C)(C)OC(=O)N1CCCC(=O)C1.CC1COP(=O)(CC(=O)OC(C)(C)C)O1',\n",
       "       'CC(C)(C)O.CC(C)(C)OC(=O)C=C1CCCN(C(=O)OC(C)(C)C)C1',\n",
       "       'CC(C)(C)O.CC(C)(C)OC(=O)N1CCCC(=CC(=O)O)C1',\n",
       "       'CC(C)(C)O.COC(=O)C=C1CCCN(C(=O)OC(C)(C)C)C1',\n",
       "       'CC(C)(C)OC(=O)C=C1(=O)CCCNC1.CC(C)(C)OC(=O)OC(=O)OC(C)(C)C',\n",
       "       'CC(C)(C)OC(=O)C=C1(=OCc2ccccc2)CCCN(C(=O)OC(C)(C)C)C1',\n",
       "       'CC(C)(C)OC(=O)C=C1CCCNC1.CC(C)(C)OC(=O)OC(=O)OC(C)(C)(C)C',\n",
       "       'CC(C)(C)OC(=O)C=C1CCCNC1.CC(C)(C)OC(=O)OC(=O)OC(C)(C)C'],\n",
       "      dtype=object)"
      ]
     },
     "execution_count": 419,
     "metadata": {},
     "output_type": "execute_result"
    }
   ],
   "source": [
    "pred_from_group2.sort_values().unique()[:10]"
   ]
  },
  {
   "cell_type": "code",
   "execution_count": 359,
   "metadata": {},
   "outputs": [],
   "source": [
    "all_sizes = rb_df.groupby('product').size().to_dict()\n",
    "rb_df['n_samples_per_product'] = rb_df.apply(lambda x: all_sizes[x['product']], axis=1)\n",
    "rb_df = compute_confidence_like_rb(rb_df)\n",
    "rb_df = compute_confidence(rb_df,group_key='product')\n",
    "rb_df['normalized_counts'] = rb_df['count']/rb_df['n_samples_per_product']"
   ]
  },
  {
   "cell_type": "code",
   "execution_count": null,
   "metadata": {},
   "outputs": [
    {
     "data": {
      "text/plain": [
       "product\n",
       "CC(C)(C)OC(=O)C=C1CCCN(C(=O)OC(C)(C)C)C1                                 200\n",
       "CC(C)(C)OC(=O)N1CCN(C(=O)OC(C)(C)C)C(CO)C1                               200\n",
       "CCOC(=O)C(C)=CC(C(C)C)N(C)C(=O)C(NC(=O)C(NC)C(C)(C)C1=CC=CS1)C(C)(C)C    200\n",
       "O=C(O)CCCCCC1=CC=CC2=CN=CN21                                             200\n",
       "Name: true, dtype: int64"
      ]
     },
     "metadata": {},
     "output_type": "display_data"
    }
   ],
   "source": [
    "grouped = samples_from_7ck620.groupby(['product']).agg({'true':'size'})['true']\n",
    "grouped[grouped==200]"
   ]
  },
  {
   "cell_type": "code",
   "execution_count": 361,
   "metadata": {},
   "outputs": [
    {
     "data": {
      "text/plain": [
       "False"
      ]
     },
     "execution_count": 361,
     "metadata": {},
     "output_type": "execute_result"
    }
   ],
   "source": [
    "(rb_df['normalized_counts']==rb_df['confidence']).all()"
   ]
  },
  {
   "cell_type": "code",
   "execution_count": 362,
   "metadata": {},
   "outputs": [
    {
     "data": {
      "text/plain": [
       "False"
      ]
     },
     "execution_count": 362,
     "metadata": {},
     "output_type": "execute_result"
    }
   ],
   "source": [
    "(rb_df['count']==rb_df['new_counts']).all()"
   ]
  },
  {
   "cell_type": "code",
   "execution_count": 391,
   "metadata": {},
   "outputs": [
    {
     "data": {
      "text/html": [
       "<div>\n",
       "<style scoped>\n",
       "    .dataframe tbody tr th:only-of-type {\n",
       "        vertical-align: middle;\n",
       "    }\n",
       "\n",
       "    .dataframe tbody tr th {\n",
       "        vertical-align: top;\n",
       "    }\n",
       "\n",
       "    .dataframe thead th {\n",
       "        text-align: right;\n",
       "    }\n",
       "</style>\n",
       "<table border=\"1\" class=\"dataframe\">\n",
       "  <thead>\n",
       "    <tr style=\"text-align: right;\">\n",
       "      <th></th>\n",
       "      <th></th>\n",
       "      <th>count</th>\n",
       "    </tr>\n",
       "    <tr>\n",
       "      <th>product</th>\n",
       "      <th>pred</th>\n",
       "      <th></th>\n",
       "    </tr>\n",
       "  </thead>\n",
       "  <tbody>\n",
       "    <tr>\n",
       "      <th rowspan=\"14\" valign=\"top\">CC(C)(C)OC(=O)C=C1CCCN(C(=O)OC(C)(C)C)C1</th>\n",
       "      <th>C.CC(C)(C)OC(=O)CP1(=O)OCCCO1.CC(C)(C)OC(=O)N1CCCC(=O)C1</th>\n",
       "      <td>2</td>\n",
       "    </tr>\n",
       "    <tr>\n",
       "      <th>C.CC(C)(C)OC(=O)N1CCCC(=O)C1.CC1COP(=O)(CC(=O)OC(C)(C)C)O1</th>\n",
       "      <td>8</td>\n",
       "    </tr>\n",
       "    <tr>\n",
       "      <th>CC(C)(C)O.CC(C)(C)OC(=O)N1CCCC(=CC(=O)O)C1</th>\n",
       "      <td>2</td>\n",
       "    </tr>\n",
       "    <tr>\n",
       "      <th>CC(C)(C)OC(=O)C=C1CCCNC1.CC(C)(C)OC(=O)OC(=O)OC(C)(C)C</th>\n",
       "      <td>761</td>\n",
       "    </tr>\n",
       "    <tr>\n",
       "      <th>CC(C)(C)OC(=O)N1CCCC(=O)C1.CC=O.CCO[PH](=O)CC(=O)OC(C)(C)C</th>\n",
       "      <td>2</td>\n",
       "    </tr>\n",
       "    <tr>\n",
       "      <th>CC(C)(C)OC(=O)N1CCCC(=O)C1.CCCOP(=O)(CC(=O)OC(C)(C)C)OC</th>\n",
       "      <td>2</td>\n",
       "    </tr>\n",
       "    <tr>\n",
       "      <th>CC(C)(C)OC(=O)N1CCCC(=O)C1.CCOP(=O)(CC(=O)OC(C)(C)C)O1CC1</th>\n",
       "      <td>2</td>\n",
       "    </tr>\n",
       "    <tr>\n",
       "      <th>CC(C)(C)OC(=O)N1CCCC(=O)C1.CCOP(=O)(CC(=O)OC(C)(C)C)OCC</th>\n",
       "      <td>1013</td>\n",
       "    </tr>\n",
       "    <tr>\n",
       "      <th>CC(C)(C)OC(=O)N1CCCC(=O)C1.CCO[PH](=O)(O)(CC(=O)OC(C)(C)C)OC</th>\n",
       "      <td>5</td>\n",
       "    </tr>\n",
       "    <tr>\n",
       "      <th>CC(C)(C)OC(=O)N1CCCC(=O)C1.CCO[PH](=O)(O)(CC(=O)OC(C)(C)C)OCC</th>\n",
       "      <td>5</td>\n",
       "    </tr>\n",
       "    <tr>\n",
       "      <th>CC(C)(C)OC(=O)N1CCCC(=O)C1.CCO[PH](O)(CC(=O)OC(C)(C)C)OCC</th>\n",
       "      <td>2</td>\n",
       "    </tr>\n",
       "    <tr>\n",
       "      <th>CC(C)(C)OC(=O)N1CCCC(=O)C1.CCO[PH]1(=O)(CC(=O)OC(C)(C)C)OCO1</th>\n",
       "      <td>2</td>\n",
       "    </tr>\n",
       "    <tr>\n",
       "      <th>CC(C)(C)OC(=O)N1CCCC(=O)C1.COP(=O)(CC(=O)OC(C)(C)C)OC(C)C</th>\n",
       "      <td>113</td>\n",
       "    </tr>\n",
       "    <tr>\n",
       "      <th>CC.CCOP(=O)(CC(=O)OC(C)(C)C)O=C1CCCN(C(=O)OC(C)(C)C)C1.O</th>\n",
       "      <td>5</td>\n",
       "    </tr>\n",
       "  </tbody>\n",
       "</table>\n",
       "</div>"
      ],
      "text/plain": [
       "                                                                                             count\n",
       "product                                  pred                                                     \n",
       "CC(C)(C)OC(=O)C=C1CCCN(C(=O)OC(C)(C)C)C1 C.CC(C)(C)OC(=O)CP1(=O)OCCCO1.CC(C)(C)OC(=O)N1C...      2\n",
       "                                         C.CC(C)(C)OC(=O)N1CCCC(=O)C1.CC1COP(=O)(CC(=O)O...      8\n",
       "                                         CC(C)(C)O.CC(C)(C)OC(=O)N1CCCC(=CC(=O)O)C1              2\n",
       "                                         CC(C)(C)OC(=O)C=C1CCCNC1.CC(C)(C)OC(=O)OC(=O)OC...    761\n",
       "                                         CC(C)(C)OC(=O)N1CCCC(=O)C1.CC=O.CCO[PH](=O)CC(=...      2\n",
       "                                         CC(C)(C)OC(=O)N1CCCC(=O)C1.CCCOP(=O)(CC(=O)OC(C...      2\n",
       "                                         CC(C)(C)OC(=O)N1CCCC(=O)C1.CCOP(=O)(CC(=O)OC(C)...      2\n",
       "                                         CC(C)(C)OC(=O)N1CCCC(=O)C1.CCOP(=O)(CC(=O)OC(C)...   1013\n",
       "                                         CC(C)(C)OC(=O)N1CCCC(=O)C1.CCO[PH](=O)(O)(CC(=O...      5\n",
       "                                         CC(C)(C)OC(=O)N1CCCC(=O)C1.CCO[PH](=O)(O)(CC(=O...      5\n",
       "                                         CC(C)(C)OC(=O)N1CCCC(=O)C1.CCO[PH](O)(CC(=O)OC(...      2\n",
       "                                         CC(C)(C)OC(=O)N1CCCC(=O)C1.CCO[PH]1(=O)(CC(=O)O...      2\n",
       "                                         CC(C)(C)OC(=O)N1CCCC(=O)C1.COP(=O)(CC(=O)OC(C)(...    113\n",
       "                                         CC.CCOP(=O)(CC(=O)OC(C)(C)C)O=C1CCCN(C(=O)OC(C)...      5"
      ]
     },
     "execution_count": 391,
     "metadata": {},
     "output_type": "execute_result"
    }
   ],
   "source": [
    "rb_df[(rb_df['count']!=rb_df['new_counts'])\\\n",
    "    &(rb_df['product']=='CC(C)(C)OC(=O)C=C1CCCN(C(=O)OC(C)(C)C)C1')].groupby(['product','pred']).agg({'count':'sum'})"
   ]
  },
  {
   "cell_type": "code",
   "execution_count": 388,
   "metadata": {},
   "outputs": [
    {
     "data": {
      "text/html": [
       "<div>\n",
       "<style scoped>\n",
       "    .dataframe tbody tr th:only-of-type {\n",
       "        vertical-align: middle;\n",
       "    }\n",
       "\n",
       "    .dataframe tbody tr th {\n",
       "        vertical-align: top;\n",
       "    }\n",
       "\n",
       "    .dataframe thead th {\n",
       "        text-align: right;\n",
       "    }\n",
       "</style>\n",
       "<table border=\"1\" class=\"dataframe\">\n",
       "  <thead>\n",
       "    <tr style=\"text-align: right;\">\n",
       "      <th></th>\n",
       "      <th></th>\n",
       "      <th>count</th>\n",
       "    </tr>\n",
       "    <tr>\n",
       "      <th>product</th>\n",
       "      <th>pred</th>\n",
       "      <th></th>\n",
       "    </tr>\n",
       "  </thead>\n",
       "  <tbody>\n",
       "    <tr>\n",
       "      <th rowspan=\"14\" valign=\"top\">CC(C)(C)OC(=O)C=C1CCCN(C(=O)OC(C)(C)C)C1</th>\n",
       "      <th>C.CC(C)(C)OC(=O)CP1(=O)OCCCO1.CC(C)(C)OC(=O)N1CCCC(=O)C1</th>\n",
       "      <td>1</td>\n",
       "    </tr>\n",
       "    <tr>\n",
       "      <th>C.CC(C)(C)OC(=O)N1CCCC(=O)C1.CC1COP(=O)(CC(=O)OC(C)(C)C)O1</th>\n",
       "      <td>2</td>\n",
       "    </tr>\n",
       "    <tr>\n",
       "      <th>CC(C)(C)O.CC(C)(C)OC(=O)N1CCCC(=CC(=O)O)C1</th>\n",
       "      <td>1</td>\n",
       "    </tr>\n",
       "    <tr>\n",
       "      <th>CC(C)(C)OC(=O)C=C1CCCNC1.CC(C)(C)OC(=O)OC(=O)OC(C)(C)C</th>\n",
       "      <td>19</td>\n",
       "    </tr>\n",
       "    <tr>\n",
       "      <th>CC(C)(C)OC(=O)N1CCCC(=O)C1.CC=O.CCO[PH](=O)CC(=O)OC(C)(C)C</th>\n",
       "      <td>1</td>\n",
       "    </tr>\n",
       "    <tr>\n",
       "      <th>CC(C)(C)OC(=O)N1CCCC(=O)C1.CCCOP(=O)(CC(=O)OC(C)(C)C)OC</th>\n",
       "      <td>1</td>\n",
       "    </tr>\n",
       "    <tr>\n",
       "      <th>CC(C)(C)OC(=O)N1CCCC(=O)C1.CCOP(=O)(CC(=O)OC(C)(C)C)O1CC1</th>\n",
       "      <td>1</td>\n",
       "    </tr>\n",
       "    <tr>\n",
       "      <th>CC(C)(C)OC(=O)N1CCCC(=O)C1.CCOP(=O)(CC(=O)OC(C)(C)C)OCC</th>\n",
       "      <td>22</td>\n",
       "    </tr>\n",
       "    <tr>\n",
       "      <th>CC(C)(C)OC(=O)N1CCCC(=O)C1.CCO[PH](=O)(O)(CC(=O)OC(C)(C)C)OC</th>\n",
       "      <td>1</td>\n",
       "    </tr>\n",
       "    <tr>\n",
       "      <th>CC(C)(C)OC(=O)N1CCCC(=O)C1.CCO[PH](=O)(O)(CC(=O)OC(C)(C)C)OCC</th>\n",
       "      <td>1</td>\n",
       "    </tr>\n",
       "    <tr>\n",
       "      <th>CC(C)(C)OC(=O)N1CCCC(=O)C1.CCO[PH](O)(CC(=O)OC(C)(C)C)OCC</th>\n",
       "      <td>1</td>\n",
       "    </tr>\n",
       "    <tr>\n",
       "      <th>CC(C)(C)OC(=O)N1CCCC(=O)C1.CCO[PH]1(=O)(CC(=O)OC(C)(C)C)OCO1</th>\n",
       "      <td>1</td>\n",
       "    </tr>\n",
       "    <tr>\n",
       "      <th>CC(C)(C)OC(=O)N1CCCC(=O)C1.COP(=O)(CC(=O)OC(C)(C)C)OC(C)C</th>\n",
       "      <td>7</td>\n",
       "    </tr>\n",
       "    <tr>\n",
       "      <th>CC.CCOP(=O)(CC(=O)OC(C)(C)C)O=C1CCCN(C(=O)OC(C)(C)C)C1.O</th>\n",
       "      <td>1</td>\n",
       "    </tr>\n",
       "  </tbody>\n",
       "</table>\n",
       "</div>"
      ],
      "text/plain": [
       "                                                                                             count\n",
       "product                                  pred                                                     \n",
       "CC(C)(C)OC(=O)C=C1CCCN(C(=O)OC(C)(C)C)C1 C.CC(C)(C)OC(=O)CP1(=O)OCCCO1.CC(C)(C)OC(=O)N1C...      1\n",
       "                                         C.CC(C)(C)OC(=O)N1CCCC(=O)C1.CC1COP(=O)(CC(=O)O...      2\n",
       "                                         CC(C)(C)O.CC(C)(C)OC(=O)N1CCCC(=CC(=O)O)C1              1\n",
       "                                         CC(C)(C)OC(=O)C=C1CCCNC1.CC(C)(C)OC(=O)OC(=O)OC...     19\n",
       "                                         CC(C)(C)OC(=O)N1CCCC(=O)C1.CC=O.CCO[PH](=O)CC(=...      1\n",
       "                                         CC(C)(C)OC(=O)N1CCCC(=O)C1.CCCOP(=O)(CC(=O)OC(C...      1\n",
       "                                         CC(C)(C)OC(=O)N1CCCC(=O)C1.CCOP(=O)(CC(=O)OC(C)...      1\n",
       "                                         CC(C)(C)OC(=O)N1CCCC(=O)C1.CCOP(=O)(CC(=O)OC(C)...     22\n",
       "                                         CC(C)(C)OC(=O)N1CCCC(=O)C1.CCO[PH](=O)(O)(CC(=O...      1\n",
       "                                         CC(C)(C)OC(=O)N1CCCC(=O)C1.CCO[PH](=O)(O)(CC(=O...      1\n",
       "                                         CC(C)(C)OC(=O)N1CCCC(=O)C1.CCO[PH](O)(CC(=O)OC(...      1\n",
       "                                         CC(C)(C)OC(=O)N1CCCC(=O)C1.CCO[PH]1(=O)(CC(=O)O...      1\n",
       "                                         CC(C)(C)OC(=O)N1CCCC(=O)C1.COP(=O)(CC(=O)OC(C)(...      7\n",
       "                                         CC.CCOP(=O)(CC(=O)OC(C)(C)C)O=C1CCCN(C(=O)OC(C)...      1"
      ]
     },
     "execution_count": 388,
     "metadata": {},
     "output_type": "execute_result"
    }
   ],
   "source": [
    "rb_df[(rb_df['count']!=rb_df['new_counts'])\\\n",
    "    &(rb_df['product']=='CC(C)(C)OC(=O)C=C1CCCN(C(=O)OC(C)(C)C)C1')].groupby(['product','pred']).agg({'count':'min'})"
   ]
  },
  {
   "cell_type": "code",
   "execution_count": 390,
   "metadata": {},
   "outputs": [
    {
     "data": {
      "text/html": [
       "<div>\n",
       "<style scoped>\n",
       "    .dataframe tbody tr th:only-of-type {\n",
       "        vertical-align: middle;\n",
       "    }\n",
       "\n",
       "    .dataframe tbody tr th {\n",
       "        vertical-align: top;\n",
       "    }\n",
       "\n",
       "    .dataframe thead th {\n",
       "        text-align: right;\n",
       "    }\n",
       "</style>\n",
       "<table border=\"1\" class=\"dataframe\">\n",
       "  <thead>\n",
       "    <tr style=\"text-align: right;\">\n",
       "      <th></th>\n",
       "      <th></th>\n",
       "      <th>new_counts</th>\n",
       "    </tr>\n",
       "    <tr>\n",
       "      <th>product</th>\n",
       "      <th>pred</th>\n",
       "      <th></th>\n",
       "    </tr>\n",
       "  </thead>\n",
       "  <tbody>\n",
       "    <tr>\n",
       "      <th rowspan=\"14\" valign=\"top\">CC(C)(C)OC(=O)C=C1CCCN(C(=O)OC(C)(C)C)C1</th>\n",
       "      <th>C.CC(C)(C)OC(=O)CP1(=O)OCCCO1.CC(C)(C)OC(=O)N1CCCC(=O)C1</th>\n",
       "      <td>2.0</td>\n",
       "    </tr>\n",
       "    <tr>\n",
       "      <th>C.CC(C)(C)OC(=O)N1CCCC(=O)C1.CC1COP(=O)(CC(=O)OC(C)(C)C)O1</th>\n",
       "      <td>4.0</td>\n",
       "    </tr>\n",
       "    <tr>\n",
       "      <th>CC(C)(C)O.CC(C)(C)OC(=O)N1CCCC(=CC(=O)O)C1</th>\n",
       "      <td>2.0</td>\n",
       "    </tr>\n",
       "    <tr>\n",
       "      <th>CC(C)(C)OC(=O)C=C1CCCNC1.CC(C)(C)OC(=O)OC(=O)OC(C)(C)C</th>\n",
       "      <td>39.0</td>\n",
       "    </tr>\n",
       "    <tr>\n",
       "      <th>CC(C)(C)OC(=O)N1CCCC(=O)C1.CC=O.CCO[PH](=O)CC(=O)OC(C)(C)C</th>\n",
       "      <td>2.0</td>\n",
       "    </tr>\n",
       "    <tr>\n",
       "      <th>CC(C)(C)OC(=O)N1CCCC(=O)C1.CCCOP(=O)(CC(=O)OC(C)(C)C)OC</th>\n",
       "      <td>2.0</td>\n",
       "    </tr>\n",
       "    <tr>\n",
       "      <th>CC(C)(C)OC(=O)N1CCCC(=O)C1.CCOP(=O)(CC(=O)OC(C)(C)C)O1CC1</th>\n",
       "      <td>2.0</td>\n",
       "    </tr>\n",
       "    <tr>\n",
       "      <th>CC(C)(C)OC(=O)N1CCCC(=O)C1.CCOP(=O)(CC(=O)OC(C)(C)C)OCC</th>\n",
       "      <td>45.0</td>\n",
       "    </tr>\n",
       "    <tr>\n",
       "      <th>CC(C)(C)OC(=O)N1CCCC(=O)C1.CCO[PH](=O)(O)(CC(=O)OC(C)(C)C)OC</th>\n",
       "      <td>3.0</td>\n",
       "    </tr>\n",
       "    <tr>\n",
       "      <th>CC(C)(C)OC(=O)N1CCCC(=O)C1.CCO[PH](=O)(O)(CC(=O)OC(C)(C)C)OCC</th>\n",
       "      <td>3.0</td>\n",
       "    </tr>\n",
       "    <tr>\n",
       "      <th>CC(C)(C)OC(=O)N1CCCC(=O)C1.CCO[PH](O)(CC(=O)OC(C)(C)C)OCC</th>\n",
       "      <td>2.0</td>\n",
       "    </tr>\n",
       "    <tr>\n",
       "      <th>CC(C)(C)OC(=O)N1CCCC(=O)C1.CCO[PH]1(=O)(CC(=O)OC(C)(C)C)OCO1</th>\n",
       "      <td>2.0</td>\n",
       "    </tr>\n",
       "    <tr>\n",
       "      <th>CC(C)(C)OC(=O)N1CCCC(=O)C1.COP(=O)(CC(=O)OC(C)(C)C)OC(C)C</th>\n",
       "      <td>15.0</td>\n",
       "    </tr>\n",
       "    <tr>\n",
       "      <th>CC.CCOP(=O)(CC(=O)OC(C)(C)C)O=C1CCCN(C(=O)OC(C)(C)C)C1.O</th>\n",
       "      <td>3.0</td>\n",
       "    </tr>\n",
       "  </tbody>\n",
       "</table>\n",
       "</div>"
      ],
      "text/plain": [
       "                                                                                             new_counts\n",
       "product                                  pred                                                          \n",
       "CC(C)(C)OC(=O)C=C1CCCN(C(=O)OC(C)(C)C)C1 C.CC(C)(C)OC(=O)CP1(=O)OCCCO1.CC(C)(C)OC(=O)N1C...         2.0\n",
       "                                         C.CC(C)(C)OC(=O)N1CCCC(=O)C1.CC1COP(=O)(CC(=O)O...         4.0\n",
       "                                         CC(C)(C)O.CC(C)(C)OC(=O)N1CCCC(=CC(=O)O)C1                 2.0\n",
       "                                         CC(C)(C)OC(=O)C=C1CCCNC1.CC(C)(C)OC(=O)OC(=O)OC...        39.0\n",
       "                                         CC(C)(C)OC(=O)N1CCCC(=O)C1.CC=O.CCO[PH](=O)CC(=...         2.0\n",
       "                                         CC(C)(C)OC(=O)N1CCCC(=O)C1.CCCOP(=O)(CC(=O)OC(C...         2.0\n",
       "                                         CC(C)(C)OC(=O)N1CCCC(=O)C1.CCOP(=O)(CC(=O)OC(C)...         2.0\n",
       "                                         CC(C)(C)OC(=O)N1CCCC(=O)C1.CCOP(=O)(CC(=O)OC(C)...        45.0\n",
       "                                         CC(C)(C)OC(=O)N1CCCC(=O)C1.CCO[PH](=O)(O)(CC(=O...         3.0\n",
       "                                         CC(C)(C)OC(=O)N1CCCC(=O)C1.CCO[PH](=O)(O)(CC(=O...         3.0\n",
       "                                         CC(C)(C)OC(=O)N1CCCC(=O)C1.CCO[PH](O)(CC(=O)OC(...         2.0\n",
       "                                         CC(C)(C)OC(=O)N1CCCC(=O)C1.CCO[PH]1(=O)(CC(=O)O...         2.0\n",
       "                                         CC(C)(C)OC(=O)N1CCCC(=O)C1.COP(=O)(CC(=O)OC(C)(...        15.0\n",
       "                                         CC.CCOP(=O)(CC(=O)OC(C)(C)C)O=C1CCCN(C(=O)OC(C)...         3.0"
      ]
     },
     "execution_count": 390,
     "metadata": {},
     "output_type": "execute_result"
    }
   ],
   "source": [
    "rb_df[(rb_df['count']!=rb_df['new_counts'])\\\n",
    "    &(rb_df['product']=='CC(C)(C)OC(=O)C=C1CCCN(C(=O)OC(C)(C)C)C1')].groupby(['product','pred']).agg({'new_counts':'mean'})"
   ]
  },
  {
   "cell_type": "code",
   "execution_count": 379,
   "metadata": {},
   "outputs": [
    {
     "data": {
      "text/plain": [
       "array(['C', 'CC(C)(C)OC(=O)C=C1CCCN(C(=O)OC(C)(C)C)C1',\n",
       "       'CC(C)(C)OC(=O)N1CCC(CO)CC1',\n",
       "       'CC(C)(C)OC(=O)N1CCN(C(=O)OC(C)(C)C)C(CO)C1',\n",
       "       'CCOC(=O)C(C)=CC(C(C)C)N(C)C(=O)C(NC(=O)C(NC)C(C)(C)c1cccs1)C(C)(C)C',\n",
       "       'N#CCc1ccc(Br)cc1F', 'O=C(O)CCCCCc1cccc2cncn12',\n",
       "       'O=N(O)c1cnnc1-c1nc2ccc(CN3CCOCC3)cc2n1'], dtype=object)"
      ]
     },
     "execution_count": 379,
     "metadata": {},
     "output_type": "execute_result"
    }
   ],
   "source": [
    "rb_df[rb_df['count']!=rb_df['new_counts']].groupby('product').agg({'group':'nunique'}).query('group>1').reset_index()['product'].sort_values().values"
   ]
  },
  {
   "cell_type": "code",
   "execution_count": 392,
   "metadata": {},
   "outputs": [],
   "source": [
    "all_sizes = rb_df.groupby('product').size().to_dict()\n",
    "all_counts = rb_df.groupby(['product','pred']).size().to_dict()\n",
    "rb_df['n_samples_per_product'] = rb_df.apply(lambda x: all_sizes[x['product']], axis=1)\n",
    "rb_df['counts'] = rb_df.apply(lambda x: all_counts[x['product'],x['pred']], axis=1)\n",
    "rb_df['normalized_counts'] = rb_df['counts']/rb_df['n_samples_per_product']\n"
   ]
  },
  {
   "cell_type": "code",
   "execution_count": 393,
   "metadata": {},
   "outputs": [
    {
     "data": {
      "text/plain": [
       "array([ 100, 6300,  200])"
      ]
     },
     "execution_count": 393,
     "metadata": {},
     "output_type": "execute_result"
    }
   ],
   "source": [
    "rb_df['n_samples_per_product'].unique()"
   ]
  },
  {
   "cell_type": "code",
   "execution_count": 395,
   "metadata": {},
   "outputs": [
    {
     "data": {
      "text/plain": [
       "1452"
      ]
     },
     "execution_count": 395,
     "metadata": {},
     "output_type": "execute_result"
    }
   ],
   "source": [
    "rb_df['counts'].max()"
   ]
  },
  {
   "cell_type": "markdown",
   "metadata": {},
   "source": [
    "# Data loading"
   ]
  },
  {
   "cell_type": "code",
   "execution_count": null,
   "metadata": {},
   "outputs": [],
   "source": [
    "samples_from_rb_in_common = pd.read_csv(common_samples_from_rb_path, index_col=0, delimiter=',')\n",
    "samples_from_7ck620_in_common = pd.read_csv(common_samples_from_7ck620_path, index_col=0, delimiter=',')\n",
    "# samples_from_7ck620 = pd.read_csv(samples_from_7ck620_path)"
   ]
  },
  {
   "cell_type": "code",
   "execution_count": null,
   "metadata": {},
   "outputs": [],
   "source": [
    "# check that the products are indeed the same\n",
    "# NOTE: dataframes contain a different number of samples, but the same number (and values) of products\n",
    "assert (samples_from_7ck620_in_common.sort_values('product')['product'].unique()\n",
    "    ==samples_from_rb_in_common.sort_values('product')['product'].unique()).all()\n",
    "assert (samples_from_7ck620_in_common.sort_values('true')['true'].unique()\n",
    "    ==samples_from_rb_in_common.sort_values('true')['true'].unique()).all()"
   ]
  },
  {
   "cell_type": "code",
   "execution_count": null,
   "metadata": {},
   "outputs": [],
   "source": [
    "# 7ck620 has some pred that are 'nan': comes from empty smiles string when remapping with chython\n",
    "# no need to remove these: keep so the shapes of the rb_common and 7ck620_common are the same, but ignore in later processing\n",
    "samples_from_7ck620_in_common['pred'].isna().sum()"
   ]
  },
  {
   "cell_type": "code",
   "execution_count": null,
   "metadata": {},
   "outputs": [],
   "source": [
    "# NOTE: this is really slow (~10 min per line). Run one line at a time\n",
    "# TODO: anyway to make this faster?\n",
    "#samples_from_7ck620_in_common['product'] = samples_from_7ck620_in_common['product'].apply(lambda x: reconstruct_mol_from_atoms_and_bonds_only(x,return_smi=True))\n",
    "#samples_from_7ck620_in_common['pred'] = samples_from_7ck620_in_common['pred'].apply(lambda x: reconstruct_mol_from_atoms_and_bonds_only(x,return_smi=True))\n",
    "#samples_from_7ck620_in_common['true'] = samples_from_7ck620_in_common['true'].apply(lambda x: reconstruct_mol_from_atoms_and_bonds_only(x,return_smi=True))\n",
    "#samples_from_7ck620_in_common['pred_product'] = samples_from_7ck620_in_common['pred_product'].apply(lambda x: reconstruct_mol_from_atoms_and_bonds_only(x,return_smi=True))"
   ]
  },
  {
   "cell_type": "code",
   "execution_count": null,
   "metadata": {},
   "outputs": [],
   "source": [
    "# quick sanity check: molecules rebuilt from atoms and bonds should not contain any stereochemistry information\n",
    "# kind of a weak check atm\n",
    "assert samples_from_7ck620_in_common['pred'].str.contains('@').sum()==0\n",
    "assert samples_from_7ck620_in_common['product'].str.contains('@').sum()==0\n",
    "assert samples_from_7ck620_in_common['true'].str.contains('@').sum()==0\n",
    "assert samples_from_7ck620_in_common['pred_product'].str.contains('@').sum()==0"
   ]
  },
  {
   "cell_type": "code",
   "execution_count": null,
   "metadata": {},
   "outputs": [],
   "source": [
    "# save the post-processed 7ck620 samples from atoms and bonds to csv\n",
    "# samples_from_7ck620_in_common.to_csv('/Users/laabidn1/MolecularTransformer/data/rb_vs_7ck620/samples_from_7ck620_in_common_all_from_atoms.csv')"
   ]
  },
  {
   "cell_type": "code",
   "execution_count": null,
   "metadata": {},
   "outputs": [],
   "source": [
    "samples_from_7ck620_in_common['round_trip'] = (samples_from_7ck620_in_common['product']==samples_from_7ck620_in_common['pred_product'])\n",
    "samples_from_7ck620_in_common['exact_match'] = (samples_from_7ck620_in_common['pred']==samples_from_7ck620_in_common['true'])\n",
    "samples_from_7ck620_in_common['match'] = samples_from_7ck620_in_common['round_trip'] | samples_from_7ck620_in_common['exact_match']\n",
    "\n",
    "samples_from_rb_in_common['round_trip'] = (samples_from_rb_in_common['product']==samples_from_rb_in_common['pred_product'])\n",
    "samples_from_rb_in_common['exact_match'] = (samples_from_rb_in_common['pred']==samples_from_rb_in_common['true'])\n",
    "samples_from_rb_in_common['match'] = samples_from_rb_in_common['round_trip'] | samples_from_rb_in_common['exact_match']"
   ]
  },
  {
   "cell_type": "markdown",
   "metadata": {},
   "source": [
    "# Compare total # of correct round_trip"
   ]
  },
  {
   "cell_type": "code",
   "execution_count": 289,
   "metadata": {},
   "outputs": [],
   "source": [
    "dedup_samples_from_rb_in_common = samples_from_rb_in_common.drop_duplicates(subset=['product','pred','true'])\n",
    "dedup_samples_from_7ck620_in_common = samples_from_7ck620_in_common.drop_duplicates(subset=['product','pred','true'])"
   ]
  },
  {
   "cell_type": "code",
   "execution_count": 293,
   "metadata": {},
   "outputs": [
    {
     "data": {
      "text/plain": [
       "(77469, 13)"
      ]
     },
     "execution_count": 293,
     "metadata": {},
     "output_type": "execute_result"
    }
   ],
   "source": [
    "dedup_samples_from_rb_in_common.shape"
   ]
  },
  {
   "cell_type": "code",
   "execution_count": 297,
   "metadata": {},
   "outputs": [
    {
     "data": {
      "text/plain": [
       "32537"
      ]
     },
     "execution_count": 297,
     "metadata": {},
     "output_type": "execute_result"
    }
   ],
   "source": [
    "dedup_samples_from_7ck620_in_common.shape"
   ]
  },
  {
   "cell_type": "code",
   "execution_count": null,
   "metadata": {},
   "outputs": [],
   "source": [
    "dedup_samples_from_7ck620_in_common.shape[0]-dedup_samples_from_rb_in_common.shape[0]"
   ]
  },
  {
   "cell_type": "code",
   "execution_count": 295,
   "metadata": {},
   "outputs": [
    {
     "data": {
      "text/plain": [
       "430"
      ]
     },
     "execution_count": 295,
     "metadata": {},
     "output_type": "execute_result"
    }
   ],
   "source": [
    "dedup_samples_from_rb_in_common['round_trip'].sum()-dedup_samples_from_7ck620_in_common['round_trip'].sum()"
   ]
  },
  {
   "cell_type": "code",
   "execution_count": 292,
   "metadata": {},
   "outputs": [
    {
     "data": {
      "text/plain": [
       "38522"
      ]
     },
     "execution_count": 292,
     "metadata": {},
     "output_type": "execute_result"
    }
   ],
   "source": [
    "dedup_samples_from_7ck620_in_common['round_trip'].sum()"
   ]
  },
  {
   "cell_type": "markdown",
   "metadata": {},
   "source": [
    "# Check the number of samples per product"
   ]
  },
  {
   "cell_type": "code",
   "execution_count": 188,
   "metadata": {},
   "outputs": [
    {
     "data": {
      "text/plain": [
       "product\n",
       "CC(C)(C)OC(=O)C=C1CCCN(C(=O)OC(C)(C)C)C1                                 200\n",
       "CC(C)(C)OC(=O)N1CCN(C(=O)OC(C)(C)C)C(CO)C1                               200\n",
       "CCOC(=O)C(C)=CC(C(C)C)N(C)C(=O)C(NC(=O)C(NC)C(C)(C)C1=CC=CS1)C(C)(C)C    200\n",
       "O=C(O)CCCCCC1=CC=CC2=CN=CN21                                             200\n",
       "Name: pred, dtype: int64"
      ]
     },
     "execution_count": 188,
     "metadata": {},
     "output_type": "execute_result"
    }
   ],
   "source": [
    "# we have duplicate reactions in the dataset\n",
    "# rb has one extra reaction duplicated compared to 7ck620, in common samples??\n",
    "samples_from_7ck620 = pd.read_csv(samples_from_7ck620_path)\n",
    "samples_from_7ck620[samples_from_7ck620['product']!='C'].groupby('product').agg({'pred':\"size\"})['pred'].unique()\n",
    "\n",
    "n_preds_per_product_7ck620 = samples_from_7ck620.groupby(['product']).agg({'pred':'size'})['pred']\n",
    "n_preds_per_product_7ck620[n_preds_per_product_7ck620==200]\n"
   ]
  },
  {
   "cell_type": "code",
   "execution_count": 197,
   "metadata": {},
   "outputs": [
    {
     "data": {
      "text/plain": [
       "product\n",
       "CC(C)(C)OC(=O)C=C1CCCN(C(=O)OC(C)(C)C)C1                                 200\n",
       "CC(C)(C)OC(=O)N1CCN(C(=O)OC(C)(C)C)C(CO)C1                               200\n",
       "CCOC(=O)C(C)=CC(C(C)C)N(C)C(=O)C(NC(=O)C(NC)C(C)(C)C1=CC=CS1)C(C)(C)C    200\n",
       "O=C(O)CCCCCC1=CC=CC2=CN=CN21                                             200\n",
       "Name: true, dtype: int64"
      ]
     },
     "execution_count": 197,
     "metadata": {},
     "output_type": "execute_result"
    }
   ],
   "source": [
    "grouped = samples_from_7ck620.groupby(['product']).agg({'true':'size'})['true']\n",
    "grouped[grouped==200]"
   ]
  },
  {
   "cell_type": "code",
   "execution_count": 204,
   "metadata": {},
   "outputs": [
    {
     "data": {
      "text/plain": [
       "array(['CC(C)(C)OC(=O)N1CCN(C(=O)OC(C)(C)C)C(C(=O)O)C1'], dtype=object)"
      ]
     },
     "execution_count": 204,
     "metadata": {},
     "output_type": "execute_result"
    }
   ],
   "source": [
    "samples_from_7ck620[samples_from_7ck620['product']=='CC(C)(C)OC(=O)N1CCN(C(=O)OC(C)(C)C)C(CO)C1']['true'].unique()"
   ]
  },
  {
   "cell_type": "code",
   "execution_count": 186,
   "metadata": {},
   "outputs": [
    {
     "data": {
      "text/plain": [
       "28900"
      ]
     },
     "execution_count": 186,
     "metadata": {},
     "output_type": "execute_result"
    }
   ],
   "source": [
    "samples_from_7ck620['product'].str.contains('\\+').sum()\n"
   ]
  },
  {
   "cell_type": "code",
   "execution_count": 207,
   "metadata": {},
   "outputs": [
    {
     "data": {
      "text/plain": [
       "product\n",
       "CC(C)(C)OC(=O)C=C1CCCN(C(=O)OC(C)(C)C)C1                               200\n",
       "CC(C)(C)OC(=O)N1CCN(C(=O)OC(C)(C)C)C(CO)C1                             200\n",
       "CCOC(=O)C(C)=CC(C(C)C)N(C)C(=O)C(NC(=O)C(NC)C(C)(C)c1cccs1)C(C)(C)C    200\n",
       "O=C(O)CCCCCc1cccc2cncn12                                               200\n",
       "O=N(O)c1cnnc1-c1nc2ccc(CN3CCOCC3)cc2n1                                 200\n",
       "Name: pred, dtype: int64"
      ]
     },
     "execution_count": 207,
     "metadata": {},
     "output_type": "execute_result"
    }
   ],
   "source": [
    "n_preds_per_product_rb = samples_from_rb_in_common.groupby(['product']).agg({'pred':'size'})['pred']\n",
    "n_preds_per_product_rb[n_preds_per_product_rb==200]"
   ]
  },
  {
   "cell_type": "code",
   "execution_count": 210,
   "metadata": {},
   "outputs": [
    {
     "data": {
      "text/plain": [
       "product\n",
       "CC(C)(C)OC(=O)/C=C1/CCCN(C(=O)OC(C)(C)C)C1                                            200\n",
       "CC(C)(C)OC(=O)N1CCN(C(=O)OC(C)(C)C)C(CO)C1                                            200\n",
       "CCOC(=O)/C(C)=C/[C@H](C(C)C)N(C)C(=O)[C@@H](NC(=O)[C@H](NC)C(C)(C)c1cccs1)C(C)(C)C    200\n",
       "O=C(O)CCCCCc1cccc2cncn12                                                              200\n",
       "Name: pred, dtype: int64"
      ]
     },
     "execution_count": 210,
     "metadata": {},
     "output_type": "execute_result"
    }
   ],
   "source": [
    "samples_from_7ck620_temp = pd.read_csv(common_samples_from_7ck620_path)\n",
    "n_preds_per_product_rb = samples_from_7ck620_temp.groupby(['product']).agg({'pred':'size'})['pred']\n",
    "n_preds_per_product_rb[n_preds_per_product_rb==200]"
   ]
  },
  {
   "cell_type": "code",
   "execution_count": 214,
   "metadata": {},
   "outputs": [
    {
     "data": {
      "text/plain": [
       "array(['O=[N+]([O-])c1c[nH]nc1-c1nc2cc(CN3CCOCC3)ccc2[nH]1'], dtype=object)"
      ]
     },
     "execution_count": 214,
     "metadata": {},
     "output_type": "execute_result"
    }
   ],
   "source": [
    "samples_from_7ck620_temp[samples_from_7ck620_temp['product_reconstructed_from_atoms_and_bonds']\\\n",
    "                         =='O=N(O)c1cnnc1-c1nc2ccc(CN3CCOCC3)cc2n1']['product'].unique()"
   ]
  },
  {
   "cell_type": "code",
   "execution_count": 165,
   "metadata": {},
   "outputs": [
    {
     "data": {
      "text/plain": [
       "product\n",
       "CC(C)(C)OC(=O)C=C1CCCN(C(=O)OC(C)(C)C)C1                               200\n",
       "CC(C)(C)OC(=O)N1CCN(C(=O)OC(C)(C)C)C(CO)C1                             200\n",
       "CCOC(=O)C(C)=CC(C(C)C)N(C)C(=O)C(NC(=O)C(NC)C(C)(C)c1cccs1)C(C)(C)C    200\n",
       "O=C(O)CCCCCc1cccc2cncn12                                               200\n",
       "Name: pred, dtype: int64"
      ]
     },
     "execution_count": 165,
     "metadata": {},
     "output_type": "execute_result"
    }
   ],
   "source": [
    "# should have the same # of predictions per product, i.e. 100\n",
    "n_preds_per_product_rb = samples_from_rb_in_common.groupby(['product']).agg({'pred':'size'})['pred']\n",
    "n_preds_per_product_rb[n_preds_per_product_rb==200]\n",
    "\n",
    "n_preds_per_product_7ck620 = samples_from_7ck620_in_common.groupby(['product']).agg({'pred':'size'})['pred']\n",
    "n_preds_per_product_7ck620[n_preds_per_product_7ck620==200]\n",
    "\n"
   ]
  },
  {
   "cell_type": "markdown",
   "metadata": {},
   "source": [
    "# Compare # of unique preds per product"
   ]
  },
  {
   "cell_type": "code",
   "execution_count": null,
   "metadata": {},
   "outputs": [],
   "source": [
    "nunique_preds_per_product_7ck620_in_common = samples_from_7ck620_in_common[samples_from_7ck620_in_common['pred']!=''].groupby('product').agg({'pred':'nunique'})['pred']\n",
    "nunique_preds_per_product_rb_in_common = samples_from_rb_in_common[samples_from_rb_in_common['pred']!=''].groupby('product').agg({'pred':'nunique'})['pred']\n"
   ]
  },
  {
   "cell_type": "code",
   "execution_count": null,
   "metadata": {},
   "outputs": [],
   "source": [
    "assert (nunique_preds_per_product_7ck620_in_common.index==nunique_preds_per_product_rb_in_common.index).all(), 'Should be comparing the unique counts for the same products'"
   ]
  },
  {
   "cell_type": "code",
   "execution_count": null,
   "metadata": {},
   "outputs": [],
   "source": [
    "# compare the sizes of the original datasets\n",
    "print(f'Total predictions in each dataset:\\n\\t7ck620 -rb: {samples_from_7ck620_in_common.shape[0] - samples_from_rb_in_common.shape[0]}\\n')\n",
    "print(f'Total unique predictions for each dataset:\\n\\t7ck620 - rb: {sum(nunique_preds_per_product_7ck620_in_common)- sum(nunique_preds_per_product_rb_in_common)}\\n')"
   ]
  },
  {
   "cell_type": "code",
   "execution_count": null,
   "metadata": {},
   "outputs": [],
   "source": [
    "# it looks like rb has more unique counts per product than 7ck620\n",
    "plt.hist(nunique_preds_per_product_7ck620_in_common, alpha=0.5, label='7ck620');\n",
    "plt.hist(nunique_preds_per_product_rb_in_common, alpha=0.5, label='rb');\n",
    "plt.legend();"
   ]
  },
  {
   "cell_type": "code",
   "execution_count": 219,
   "metadata": {},
   "outputs": [
    {
     "data": {
      "text/plain": [
       "product\n",
       "BrCCOc1ccc(-n2ccnc2)cc1                                   26\n",
       "BrCc1ncc(C2CC2)cn1                                         1\n",
       "Brc1cc(Br)cc(-c2ccc(OCc3ccccc3)cc2)c1                     29\n",
       "Brc1ccc(Cn2cnnn2)cc1                                      11\n",
       "Brc1ccc(OC2CCOC2)nc1                                       5\n",
       "                                                          ..\n",
       "c1coc(-c2nnc(-n3ccnc3)c3ccccc23)c1                        16\n",
       "c1csc(C2CCNCC2)c1                                          7\n",
       "c1nc(CN(c2ccc3nonc3c2)n2cnnc2)cs1                          9\n",
       "c1ncc(-c2cc3c(cn2)nc2ncc(-c4ccc(CN5CCCCC5)cc4)cc23)cn1    14\n",
       "c1ncc(C2CCCNC2)n1                                         21\n",
       "Name: pred, Length: 3155, dtype: int64"
      ]
     },
     "execution_count": 219,
     "metadata": {},
     "output_type": "execute_result"
    }
   ],
   "source": [
    "diff = (nunique_preds_per_product_7ck620_in_common-nunique_preds_per_product_rb_in_common)\n",
    "diff[diff>0]"
   ]
  },
  {
   "cell_type": "code",
   "execution_count": 215,
   "metadata": {},
   "outputs": [
    {
     "data": {
      "text/plain": [
       "Index(['BrCCOc1ccc(-n2ccnc2)cc1', 'BrCc1ncc(C2CC2)cn1',\n",
       "       'Brc1cc(Br)cc(-c2ccc(OCc3ccccc3)cc2)c1', 'Brc1ccc(Cn2cnnn2)cc1',\n",
       "       'Brc1ccc(OC2CCOC2)nc1', 'Brc1ccc(OC2CNC2)cn1',\n",
       "       'Brc1cccc(C#Cc2ccccc2)c1', 'Brc1cccc(COc2ccc(C3CC3NCCC3CCCCC3)cc2)c1',\n",
       "       'Brc1cccc(OC2CC2)c1', 'Brc1cnc2c3c(nn2c1)CNC3',\n",
       "       ...\n",
       "       'c1ccc2ncc(Nc3ncnc4c3CN(CC3CCOCC3)C4)cc2c1',\n",
       "       'c1ccc2sc(-c3ccnc(NC4CCNCC4)n3)cc2c1', 'c1cnc2c(c1)CNCC2',\n",
       "       'c1cncc(-c2c3ccccc3cc3ccccc23)c1', 'c1cncc(C2CCCC2)c1',\n",
       "       'c1coc(-c2nnc(-n3ccnc3)c3ccccc23)c1', 'c1csc(C2CCNCC2)c1',\n",
       "       'c1nc(CN(c2ccc3nonc3c2)n2cnnc2)cs1',\n",
       "       'c1ncc(-c2cc3c(cn2)nc2ncc(-c4ccc(CN5CCCCC5)cc4)cc23)cn1',\n",
       "       'c1ncc(C2CCCNC2)n1'],\n",
       "      dtype='object', name='product', length=3155)"
      ]
     },
     "execution_count": 215,
     "metadata": {},
     "output_type": "execute_result"
    }
   ],
   "source": [
    "# find the products with more unique predictions in 7ck620 than in rb\n",
    "nunique_preds_per_product_7ck620_in_common[nunique_preds_per_product_7ck620_in_common>nunique_preds_per_product_rb_in_common].index"
   ]
  },
  {
   "cell_type": "markdown",
   "metadata": {},
   "source": [
    "# one product analysis"
   ]
  },
  {
   "cell_type": "code",
   "execution_count": 223,
   "metadata": {},
   "outputs": [],
   "source": [
    "# compare predictions across one product\n",
    "product = 'BrCCOc1ccc(-n2ccnc2)cc1'"
   ]
  },
  {
   "cell_type": "code",
   "execution_count": 231,
   "metadata": {},
   "outputs": [
    {
     "name": "stdout",
     "output_type": "stream",
     "text": [
      "preds_in_common_for_product {'OCCBr.Oc1ccc(-n2ccnc2)cc1', 'BrC(Br)(Br)Br.OCCOc1ccc(-n2ccnc2)cc1', 'BrCCBr.Oc1ccc(-n2ccnc2)cc1'}\n",
      "\n",
      "preds in rb and not for us {'BrCCBr.O.Oc1ccc(-n2ccnc2)cc1'}\n",
      "\n",
      "preds_different_for_product_7ck620 {'OC(COC1=CC=C(N2C=CN=C2)C=C1)BrC(Br)Br', 'BrC(Br)Br.BrCCOc1ccc(-n2ccnc2)cc1.O', 'CC(C)BrC(O)COC1=CC=C(N2C=CN=C2)C=C1', 'BrSBr.OCCBr.Oc1ccc(-n2ccnc2)cc1', 'OC(COC1=CC=C(N2C=CN=C2)C=C1)BrC(Br)(Br)Br', 'CCBr(=O)OCCBr.OC1=CC=C(N2C=CN=C2)C=C1', 'CC(=O)OCCBr.Oc1ccc(-n2ccnc2)cc1', 'O=C(OCCOc1ccc(-n2ccnc2)cc1)C(Br)(Br)Br', 'Br.BrC(Br)(Br)Br.OCCOc1ccc(-n2ccnc2)cc1', 'BrC(Br)Br.OCCOc1ccc(-n2ccnc2)cc1', 'Br.OCCBr.Oc1ccc(-n2ccnc2)cc1', 'BrCCOc1ccc(Br)cc1.c1cncn1', 'OC(CBrC(Br)Br)OC1=CC=C(N2C=CN=C2)C=C1', 'BrCCOc1ccc(-n2ccnc2)cc1.CBr', 'BrCBrCCOC1=CC=C(N2C=CN=C2)C=C1', 'BrCCBrCBr.O.OC1=CC=C(N2C=CN=C2)C=C1', 'O=S(CBr)BrCCBr.OC1=CC=C(N2C=CN=C2)C=C1', 'OC(CBrC(Br)(Br)Br)OC1=CC=C(N2C=CN=C2)C=C1', 'O=C(CBr)CBrCCOC1=CC=C(N2C=CN=C2)C=C1', 'Br.Br.CCBr.Cl.O.O.Oc1ccc(-n2ccnc2)cc1', 'Br.BrCCOc1ccc(-n2ccnc2)cc1', 'BrC(Br)(Br)(Br)Br.OCCOC1=CC=C(N2C=CN=C2)C=C1', 'BrCBr.OCCBr.Oc1ccc(-n2ccnc2)cc1', 'CC(Br)(Br)Br.OCCOc1ccc(-n2ccnc2)cc1', 'BrC(Br)Br.OCCBr.Oc1ccc(-n2ccnc2)cc1', 'BrC1CBr1.OC1=CC=C(N2C=CN=C2)C=C1.OCCBr', 'ClC(Br)Br.OCCOc1ccc(-n2ccnc2)cc1'}\n",
      "\n"
     ]
    }
   ],
   "source": [
    "# preds in common and different\n",
    "unique_pred_from_7ck620 = samples_from_7ck620_in_common[samples_from_7ck620_in_common['product']==product]['pred'].unique()\n",
    "unique_pred_from_rb = samples_from_rb_in_common[samples_from_rb_in_common['product']==product]['pred'].unique()\n",
    "preds_in_common_for_product = set(unique_pred_from_rb).intersection(set(unique_pred_from_7ck620))\n",
    "preds_different_for_product = set(unique_pred_from_rb).difference(set(unique_pred_from_7ck620))\n",
    "preds_different_for_product_7ck620 = set(unique_pred_from_7ck620).difference(set(unique_pred_from_rb))\n",
    "print(f'preds_in_common_for_product {preds_in_common_for_product}\\n')\n",
    "print(f'preds in rb and not for us {preds_different_for_product}\\n')\n",
    "print(f'preds_different_for_product_7ck620 {preds_different_for_product_7ck620}\\n')\n"
   ]
  },
  {
   "cell_type": "code",
   "execution_count": 236,
   "metadata": {},
   "outputs": [],
   "source": []
  },
  {
   "cell_type": "code",
   "execution_count": 263,
   "metadata": {},
   "outputs": [
    {
     "data": {
      "text/html": [
       "<div>\n",
       "<style scoped>\n",
       "    .dataframe tbody tr th:only-of-type {\n",
       "        vertical-align: middle;\n",
       "    }\n",
       "\n",
       "    .dataframe tbody tr th {\n",
       "        vertical-align: top;\n",
       "    }\n",
       "\n",
       "    .dataframe thead th {\n",
       "        text-align: right;\n",
       "    }\n",
       "</style>\n",
       "<table border=\"1\" class=\"dataframe\">\n",
       "  <thead>\n",
       "    <tr style=\"text-align: right;\">\n",
       "      <th></th>\n",
       "      <th>match</th>\n",
       "      <th>exact_match</th>\n",
       "      <th>round_trip</th>\n",
       "      <th>normalized_counts</th>\n",
       "    </tr>\n",
       "    <tr>\n",
       "      <th>pred</th>\n",
       "      <th></th>\n",
       "      <th></th>\n",
       "      <th></th>\n",
       "      <th></th>\n",
       "    </tr>\n",
       "  </thead>\n",
       "  <tbody>\n",
       "    <tr>\n",
       "      <th>BrCCBr.Oc1ccc(-n2ccnc2)cc1</th>\n",
       "      <td>29</td>\n",
       "      <td>29</td>\n",
       "      <td>29</td>\n",
       "      <td>0.29</td>\n",
       "    </tr>\n",
       "    <tr>\n",
       "      <th>BrC(Br)(Br)Br.OCCOc1ccc(-n2ccnc2)cc1</th>\n",
       "      <td>19</td>\n",
       "      <td>0</td>\n",
       "      <td>19</td>\n",
       "      <td>0.19</td>\n",
       "    </tr>\n",
       "    <tr>\n",
       "      <th>OCCBr.Oc1ccc(-n2ccnc2)cc1</th>\n",
       "      <td>0</td>\n",
       "      <td>0</td>\n",
       "      <td>0</td>\n",
       "      <td>0.09</td>\n",
       "    </tr>\n",
       "    <tr>\n",
       "      <th>OC(COC1=CC=C(N2C=CN=C2)C=C1)BrC(Br)(Br)Br</th>\n",
       "      <td>0</td>\n",
       "      <td>0</td>\n",
       "      <td>0</td>\n",
       "      <td>0.07</td>\n",
       "    </tr>\n",
       "    <tr>\n",
       "      <th>OC(COC1=CC=C(N2C=CN=C2)C=C1)BrC(Br)Br</th>\n",
       "      <td>0</td>\n",
       "      <td>0</td>\n",
       "      <td>0</td>\n",
       "      <td>0.06</td>\n",
       "    </tr>\n",
       "    <tr>\n",
       "      <th>BrC(Br)(Br)(Br)Br.OCCOC1=CC=C(N2C=CN=C2)C=C1</th>\n",
       "      <td>3</td>\n",
       "      <td>0</td>\n",
       "      <td>3</td>\n",
       "      <td>0.03</td>\n",
       "    </tr>\n",
       "    <tr>\n",
       "      <th>BrC(Br)Br.OCCBr.Oc1ccc(-n2ccnc2)cc1</th>\n",
       "      <td>2</td>\n",
       "      <td>0</td>\n",
       "      <td>2</td>\n",
       "      <td>0.02</td>\n",
       "    </tr>\n",
       "    <tr>\n",
       "      <th>BrC(Br)Br.OCCOc1ccc(-n2ccnc2)cc1</th>\n",
       "      <td>2</td>\n",
       "      <td>0</td>\n",
       "      <td>2</td>\n",
       "      <td>0.02</td>\n",
       "    </tr>\n",
       "    <tr>\n",
       "      <th>BrCBr.OCCBr.Oc1ccc(-n2ccnc2)cc1</th>\n",
       "      <td>0</td>\n",
       "      <td>0</td>\n",
       "      <td>0</td>\n",
       "      <td>0.02</td>\n",
       "    </tr>\n",
       "    <tr>\n",
       "      <th>O=C(OCCOc1ccc(-n2ccnc2)cc1)C(Br)(Br)Br</th>\n",
       "      <td>0</td>\n",
       "      <td>0</td>\n",
       "      <td>0</td>\n",
       "      <td>0.01</td>\n",
       "    </tr>\n",
       "    <tr>\n",
       "      <th>CCBr(=O)OCCBr.OC1=CC=C(N2C=CN=C2)C=C1</th>\n",
       "      <td>0</td>\n",
       "      <td>0</td>\n",
       "      <td>0</td>\n",
       "      <td>0.01</td>\n",
       "    </tr>\n",
       "    <tr>\n",
       "      <th>ClC(Br)Br.OCCOc1ccc(-n2ccnc2)cc1</th>\n",
       "      <td>1</td>\n",
       "      <td>0</td>\n",
       "      <td>1</td>\n",
       "      <td>0.01</td>\n",
       "    </tr>\n",
       "    <tr>\n",
       "      <th>O=C(CBr)CBrCCOC1=CC=C(N2C=CN=C2)C=C1</th>\n",
       "      <td>0</td>\n",
       "      <td>0</td>\n",
       "      <td>0</td>\n",
       "      <td>0.01</td>\n",
       "    </tr>\n",
       "    <tr>\n",
       "      <th>OC(CBrC(Br)(Br)Br)OC1=CC=C(N2C=CN=C2)C=C1</th>\n",
       "      <td>0</td>\n",
       "      <td>0</td>\n",
       "      <td>0</td>\n",
       "      <td>0.01</td>\n",
       "    </tr>\n",
       "    <tr>\n",
       "      <th>O=S(CBr)BrCCBr.OC1=CC=C(N2C=CN=C2)C=C1</th>\n",
       "      <td>0</td>\n",
       "      <td>0</td>\n",
       "      <td>0</td>\n",
       "      <td>0.01</td>\n",
       "    </tr>\n",
       "    <tr>\n",
       "      <th>CC(Br)(Br)Br.OCCOc1ccc(-n2ccnc2)cc1</th>\n",
       "      <td>1</td>\n",
       "      <td>0</td>\n",
       "      <td>1</td>\n",
       "      <td>0.01</td>\n",
       "    </tr>\n",
       "    <tr>\n",
       "      <th>OC(CBrC(Br)Br)OC1=CC=C(N2C=CN=C2)C=C1</th>\n",
       "      <td>0</td>\n",
       "      <td>0</td>\n",
       "      <td>0</td>\n",
       "      <td>0.01</td>\n",
       "    </tr>\n",
       "    <tr>\n",
       "      <th>CC(C)BrC(O)COC1=CC=C(N2C=CN=C2)C=C1</th>\n",
       "      <td>0</td>\n",
       "      <td>0</td>\n",
       "      <td>0</td>\n",
       "      <td>0.01</td>\n",
       "    </tr>\n",
       "    <tr>\n",
       "      <th>Br.Br.CCBr.Cl.O.O.Oc1ccc(-n2ccnc2)cc1</th>\n",
       "      <td>0</td>\n",
       "      <td>0</td>\n",
       "      <td>0</td>\n",
       "      <td>0.01</td>\n",
       "    </tr>\n",
       "    <tr>\n",
       "      <th>CC(=O)OCCBr.Oc1ccc(-n2ccnc2)cc1</th>\n",
       "      <td>0</td>\n",
       "      <td>0</td>\n",
       "      <td>0</td>\n",
       "      <td>0.01</td>\n",
       "    </tr>\n",
       "    <tr>\n",
       "      <th>BrSBr.OCCBr.Oc1ccc(-n2ccnc2)cc1</th>\n",
       "      <td>1</td>\n",
       "      <td>0</td>\n",
       "      <td>1</td>\n",
       "      <td>0.01</td>\n",
       "    </tr>\n",
       "    <tr>\n",
       "      <th>Br.BrC(Br)(Br)Br.OCCOc1ccc(-n2ccnc2)cc1</th>\n",
       "      <td>1</td>\n",
       "      <td>0</td>\n",
       "      <td>1</td>\n",
       "      <td>0.01</td>\n",
       "    </tr>\n",
       "    <tr>\n",
       "      <th>BrCCOc1ccc(-n2ccnc2)cc1.CBr</th>\n",
       "      <td>0</td>\n",
       "      <td>0</td>\n",
       "      <td>0</td>\n",
       "      <td>0.01</td>\n",
       "    </tr>\n",
       "    <tr>\n",
       "      <th>BrCCBrCBr.O.OC1=CC=C(N2C=CN=C2)C=C1</th>\n",
       "      <td>1</td>\n",
       "      <td>0</td>\n",
       "      <td>1</td>\n",
       "      <td>0.01</td>\n",
       "    </tr>\n",
       "    <tr>\n",
       "      <th>BrCBrCCOC1=CC=C(N2C=CN=C2)C=C1</th>\n",
       "      <td>0</td>\n",
       "      <td>0</td>\n",
       "      <td>0</td>\n",
       "      <td>0.01</td>\n",
       "    </tr>\n",
       "    <tr>\n",
       "      <th>BrC1CBr1.OC1=CC=C(N2C=CN=C2)C=C1.OCCBr</th>\n",
       "      <td>1</td>\n",
       "      <td>0</td>\n",
       "      <td>1</td>\n",
       "      <td>0.01</td>\n",
       "    </tr>\n",
       "    <tr>\n",
       "      <th>BrC(Br)Br.BrCCOc1ccc(-n2ccnc2)cc1.O</th>\n",
       "      <td>0</td>\n",
       "      <td>0</td>\n",
       "      <td>0</td>\n",
       "      <td>0.01</td>\n",
       "    </tr>\n",
       "    <tr>\n",
       "      <th>Br.OCCBr.Oc1ccc(-n2ccnc2)cc1</th>\n",
       "      <td>0</td>\n",
       "      <td>0</td>\n",
       "      <td>0</td>\n",
       "      <td>0.01</td>\n",
       "    </tr>\n",
       "    <tr>\n",
       "      <th>Br.BrCCOc1ccc(-n2ccnc2)cc1</th>\n",
       "      <td>1</td>\n",
       "      <td>0</td>\n",
       "      <td>1</td>\n",
       "      <td>0.01</td>\n",
       "    </tr>\n",
       "    <tr>\n",
       "      <th>BrCCOc1ccc(Br)cc1.c1cncn1</th>\n",
       "      <td>0</td>\n",
       "      <td>0</td>\n",
       "      <td>0</td>\n",
       "      <td>0.01</td>\n",
       "    </tr>\n",
       "  </tbody>\n",
       "</table>\n",
       "</div>"
      ],
      "text/plain": [
       "                                              match  exact_match  round_trip  \\\n",
       "pred                                                                           \n",
       "BrCCBr.Oc1ccc(-n2ccnc2)cc1                       29           29          29   \n",
       "BrC(Br)(Br)Br.OCCOc1ccc(-n2ccnc2)cc1             19            0          19   \n",
       "OCCBr.Oc1ccc(-n2ccnc2)cc1                         0            0           0   \n",
       "OC(COC1=CC=C(N2C=CN=C2)C=C1)BrC(Br)(Br)Br         0            0           0   \n",
       "OC(COC1=CC=C(N2C=CN=C2)C=C1)BrC(Br)Br             0            0           0   \n",
       "BrC(Br)(Br)(Br)Br.OCCOC1=CC=C(N2C=CN=C2)C=C1      3            0           3   \n",
       "BrC(Br)Br.OCCBr.Oc1ccc(-n2ccnc2)cc1               2            0           2   \n",
       "BrC(Br)Br.OCCOc1ccc(-n2ccnc2)cc1                  2            0           2   \n",
       "BrCBr.OCCBr.Oc1ccc(-n2ccnc2)cc1                   0            0           0   \n",
       "O=C(OCCOc1ccc(-n2ccnc2)cc1)C(Br)(Br)Br            0            0           0   \n",
       "CCBr(=O)OCCBr.OC1=CC=C(N2C=CN=C2)C=C1             0            0           0   \n",
       "ClC(Br)Br.OCCOc1ccc(-n2ccnc2)cc1                  1            0           1   \n",
       "O=C(CBr)CBrCCOC1=CC=C(N2C=CN=C2)C=C1              0            0           0   \n",
       "OC(CBrC(Br)(Br)Br)OC1=CC=C(N2C=CN=C2)C=C1         0            0           0   \n",
       "O=S(CBr)BrCCBr.OC1=CC=C(N2C=CN=C2)C=C1            0            0           0   \n",
       "CC(Br)(Br)Br.OCCOc1ccc(-n2ccnc2)cc1               1            0           1   \n",
       "OC(CBrC(Br)Br)OC1=CC=C(N2C=CN=C2)C=C1             0            0           0   \n",
       "CC(C)BrC(O)COC1=CC=C(N2C=CN=C2)C=C1               0            0           0   \n",
       "Br.Br.CCBr.Cl.O.O.Oc1ccc(-n2ccnc2)cc1             0            0           0   \n",
       "CC(=O)OCCBr.Oc1ccc(-n2ccnc2)cc1                   0            0           0   \n",
       "BrSBr.OCCBr.Oc1ccc(-n2ccnc2)cc1                   1            0           1   \n",
       "Br.BrC(Br)(Br)Br.OCCOc1ccc(-n2ccnc2)cc1           1            0           1   \n",
       "BrCCOc1ccc(-n2ccnc2)cc1.CBr                       0            0           0   \n",
       "BrCCBrCBr.O.OC1=CC=C(N2C=CN=C2)C=C1               1            0           1   \n",
       "BrCBrCCOC1=CC=C(N2C=CN=C2)C=C1                    0            0           0   \n",
       "BrC1CBr1.OC1=CC=C(N2C=CN=C2)C=C1.OCCBr            1            0           1   \n",
       "BrC(Br)Br.BrCCOc1ccc(-n2ccnc2)cc1.O               0            0           0   \n",
       "Br.OCCBr.Oc1ccc(-n2ccnc2)cc1                      0            0           0   \n",
       "Br.BrCCOc1ccc(-n2ccnc2)cc1                        1            0           1   \n",
       "BrCCOc1ccc(Br)cc1.c1cncn1                         0            0           0   \n",
       "\n",
       "                                              normalized_counts  \n",
       "pred                                                             \n",
       "BrCCBr.Oc1ccc(-n2ccnc2)cc1                                 0.29  \n",
       "BrC(Br)(Br)Br.OCCOc1ccc(-n2ccnc2)cc1                       0.19  \n",
       "OCCBr.Oc1ccc(-n2ccnc2)cc1                                  0.09  \n",
       "OC(COC1=CC=C(N2C=CN=C2)C=C1)BrC(Br)(Br)Br                  0.07  \n",
       "OC(COC1=CC=C(N2C=CN=C2)C=C1)BrC(Br)Br                      0.06  \n",
       "BrC(Br)(Br)(Br)Br.OCCOC1=CC=C(N2C=CN=C2)C=C1               0.03  \n",
       "BrC(Br)Br.OCCBr.Oc1ccc(-n2ccnc2)cc1                        0.02  \n",
       "BrC(Br)Br.OCCOc1ccc(-n2ccnc2)cc1                           0.02  \n",
       "BrCBr.OCCBr.Oc1ccc(-n2ccnc2)cc1                            0.02  \n",
       "O=C(OCCOc1ccc(-n2ccnc2)cc1)C(Br)(Br)Br                     0.01  \n",
       "CCBr(=O)OCCBr.OC1=CC=C(N2C=CN=C2)C=C1                      0.01  \n",
       "ClC(Br)Br.OCCOc1ccc(-n2ccnc2)cc1                           0.01  \n",
       "O=C(CBr)CBrCCOC1=CC=C(N2C=CN=C2)C=C1                       0.01  \n",
       "OC(CBrC(Br)(Br)Br)OC1=CC=C(N2C=CN=C2)C=C1                  0.01  \n",
       "O=S(CBr)BrCCBr.OC1=CC=C(N2C=CN=C2)C=C1                     0.01  \n",
       "CC(Br)(Br)Br.OCCOc1ccc(-n2ccnc2)cc1                        0.01  \n",
       "OC(CBrC(Br)Br)OC1=CC=C(N2C=CN=C2)C=C1                      0.01  \n",
       "CC(C)BrC(O)COC1=CC=C(N2C=CN=C2)C=C1                        0.01  \n",
       "Br.Br.CCBr.Cl.O.O.Oc1ccc(-n2ccnc2)cc1                      0.01  \n",
       "CC(=O)OCCBr.Oc1ccc(-n2ccnc2)cc1                            0.01  \n",
       "BrSBr.OCCBr.Oc1ccc(-n2ccnc2)cc1                            0.01  \n",
       "Br.BrC(Br)(Br)Br.OCCOc1ccc(-n2ccnc2)cc1                    0.01  \n",
       "BrCCOc1ccc(-n2ccnc2)cc1.CBr                                0.01  \n",
       "BrCCBrCBr.O.OC1=CC=C(N2C=CN=C2)C=C1                        0.01  \n",
       "BrCBrCCOC1=CC=C(N2C=CN=C2)C=C1                             0.01  \n",
       "BrC1CBr1.OC1=CC=C(N2C=CN=C2)C=C1.OCCBr                     0.01  \n",
       "BrC(Br)Br.BrCCOc1ccc(-n2ccnc2)cc1.O                        0.01  \n",
       "Br.OCCBr.Oc1ccc(-n2ccnc2)cc1                               0.01  \n",
       "Br.BrCCOc1ccc(-n2ccnc2)cc1                                 0.01  \n",
       "BrCCOc1ccc(Br)cc1.c1cncn1                                  0.01  "
      ]
     },
     "execution_count": 263,
     "metadata": {},
     "output_type": "execute_result"
    }
   ],
   "source": [
    "samples_from_7ck620_in_common[(samples_from_7ck620_in_common['product']==product)].groupby('pred')\\\n",
    "                                                                           .agg({'match':'sum', 'exact_match':'sum', \n",
    "                                                                                 'round_trip':'sum', \n",
    "                                                                                 'normalized_counts':'mean'})\\\n",
    "                                                                           .sort_values('normalized_counts', ascending=False)"
   ]
  },
  {
   "cell_type": "code",
   "execution_count": 262,
   "metadata": {},
   "outputs": [
    {
     "data": {
      "text/html": [
       "<div>\n",
       "<style scoped>\n",
       "    .dataframe tbody tr th:only-of-type {\n",
       "        vertical-align: middle;\n",
       "    }\n",
       "\n",
       "    .dataframe tbody tr th {\n",
       "        vertical-align: top;\n",
       "    }\n",
       "\n",
       "    .dataframe thead th {\n",
       "        text-align: right;\n",
       "    }\n",
       "</style>\n",
       "<table border=\"1\" class=\"dataframe\">\n",
       "  <thead>\n",
       "    <tr style=\"text-align: right;\">\n",
       "      <th></th>\n",
       "      <th>match</th>\n",
       "      <th>exact_match</th>\n",
       "      <th>round_trip</th>\n",
       "      <th>nll</th>\n",
       "    </tr>\n",
       "    <tr>\n",
       "      <th>pred</th>\n",
       "      <th></th>\n",
       "      <th></th>\n",
       "      <th></th>\n",
       "      <th></th>\n",
       "    </tr>\n",
       "  </thead>\n",
       "  <tbody>\n",
       "    <tr>\n",
       "      <th>OCCBr.Oc1ccc(-n2ccnc2)cc1</th>\n",
       "      <td>0</td>\n",
       "      <td>0</td>\n",
       "      <td>0</td>\n",
       "      <td>-146265.119721</td>\n",
       "    </tr>\n",
       "    <tr>\n",
       "      <th>BrCCBr.Oc1ccc(-n2ccnc2)cc1</th>\n",
       "      <td>66</td>\n",
       "      <td>66</td>\n",
       "      <td>66</td>\n",
       "      <td>-144182.063021</td>\n",
       "    </tr>\n",
       "    <tr>\n",
       "      <th>BrCCBr.O.Oc1ccc(-n2ccnc2)cc1</th>\n",
       "      <td>1</td>\n",
       "      <td>0</td>\n",
       "      <td>1</td>\n",
       "      <td>-141187.591721</td>\n",
       "    </tr>\n",
       "    <tr>\n",
       "      <th>BrC(Br)(Br)Br.OCCOc1ccc(-n2ccnc2)cc1</th>\n",
       "      <td>2</td>\n",
       "      <td>0</td>\n",
       "      <td>2</td>\n",
       "      <td>-139960.488411</td>\n",
       "    </tr>\n",
       "  </tbody>\n",
       "</table>\n",
       "</div>"
      ],
      "text/plain": [
       "                                      match  exact_match  round_trip  \\\n",
       "pred                                                                   \n",
       "OCCBr.Oc1ccc(-n2ccnc2)cc1                 0            0           0   \n",
       "BrCCBr.Oc1ccc(-n2ccnc2)cc1               66           66          66   \n",
       "BrCCBr.O.Oc1ccc(-n2ccnc2)cc1              1            0           1   \n",
       "BrC(Br)(Br)Br.OCCOc1ccc(-n2ccnc2)cc1      2            0           2   \n",
       "\n",
       "                                                nll  \n",
       "pred                                                 \n",
       "OCCBr.Oc1ccc(-n2ccnc2)cc1            -146265.119721  \n",
       "BrCCBr.Oc1ccc(-n2ccnc2)cc1           -144182.063021  \n",
       "BrCCBr.O.Oc1ccc(-n2ccnc2)cc1         -141187.591721  \n",
       "BrC(Br)(Br)Br.OCCOc1ccc(-n2ccnc2)cc1 -139960.488411  "
      ]
     },
     "execution_count": 262,
     "metadata": {},
     "output_type": "execute_result"
    }
   ],
   "source": [
    "samples_from_rb_in_common[(samples_from_rb_in_common['product']==product)].groupby('pred')\\\n",
    "                                                                   .agg({'match':'sum', 'exact_match':'sum', \n",
    "                                                                         'round_trip':'sum', \n",
    "                                                                                 'nll':'mean'})\\\n",
    "                                                                           .sort_values('nll', ascending=True)"
   ]
  },
  {
   "cell_type": "markdown",
   "metadata": {},
   "source": [
    "# Get all preds in common"
   ]
  },
  {
   "cell_type": "code",
   "execution_count": 275,
   "metadata": {},
   "outputs": [],
   "source": [
    "common_preds = samples_from_7ck620_in_common.merge(samples_from_rb_in_common, on=['product', 'true', 'pred'], \n",
    "                                                   suffixes=('_7ck620','_rb'), how='inner')\n",
    "\n",
    "common_preds.dropna(inplace=True)"
   ]
  },
  {
   "cell_type": "code",
   "execution_count": 276,
   "metadata": {},
   "outputs": [
    {
     "data": {
      "text/plain": [
       "(15437376, 25)"
      ]
     },
     "execution_count": 276,
     "metadata": {},
     "output_type": "execute_result"
    }
   ],
   "source": [
    "common_preds.shape # has more rows because duplicates in 'product', 'true', 'pred' which have different values in other columns (like ell, nll)"
   ]
  },
  {
   "cell_type": "code",
   "execution_count": 277,
   "metadata": {},
   "outputs": [
    {
     "name": "stdout",
     "output_type": "stream",
     "text": [
      "# of products with common preds 4875\n",
      "\n",
      "total # of similar predictions [18554] out of 488600\n",
      "\n"
     ]
    }
   ],
   "source": [
    "print(f'# of products with common preds {common_preds[\"product\"].nunique()}\\n')\n",
    "s = common_preds.groupby(\"product\").agg({\"pred\":\"nunique\"}).sum().values[0]\n",
    "print(f'total # of similar predictions {s} out of {samples_from_7ck620_in_common.shape[0]}\\n')\n"
   ]
  },
  {
   "cell_type": "code",
   "execution_count": 266,
   "metadata": {},
   "outputs": [],
   "source": [
    "different_preds = pd.concat([samples_from_7ck620_in_common, samples_from_rb_in_common])\\\n",
    "                    .drop_duplicates(subset=['product', 'true', 'pred'], keep=False)"
   ]
  },
  {
   "cell_type": "markdown",
   "metadata": {},
   "source": [
    "# Plot some stats"
   ]
  },
  {
   "cell_type": "code",
   "execution_count": 282,
   "metadata": {},
   "outputs": [
    {
     "data": {
      "image/png": "[encoded data removed]",
      "text/plain": [
       "<Figure size 640x480 with 1 Axes>"
      ]
     },
     "metadata": {},
     "output_type": "display_data"
    }
   ],
   "source": [
    "# number of matches vs number of unique preds per products\n",
    "samples_from_7ck620_in_common.groupby('product').agg({'match':'mean', 'pred':'nunique'}).plot.scatter(x='pred', y='match');"
   ]
  },
  {
   "cell_type": "code",
   "execution_count": 283,
   "metadata": {},
   "outputs": [
    {
     "data": {
      "image/png": "[encoded data removed]",
      "text/plain": [
       "<Figure size 640x480 with 1 Axes>"
      ]
     },
     "metadata": {},
     "output_type": "display_data"
    }
   ],
   "source": [
    "# number of matches vs number of unique preds per products\n",
    "samples_from_rb_in_common.groupby('product').agg({'match':'mean', 'pred':'nunique'}).plot.scatter(x='pred', y='match');"
   ]
  },
  {
   "cell_type": "code",
   "execution_count": null,
   "metadata": {},
   "outputs": [],
   "source": [
    "# reconstruct prediction in 7ck620"
   ]
  },
  {
   "cell_type": "code",
   "execution_count": null,
   "metadata": {},
   "outputs": [],
   "source": [
    "# get count of unique samples per product => histogram per product, or for the same product in all files\n",
    "# be careful with canonicalization etc"
   ]
  },
  {
   "cell_type": "code",
   "execution_count": null,
   "metadata": {},
   "outputs": [],
   "source": [
    "# isolate data with exceptionally low unique sample counts/bad round_trip match numbers\n"
   ]
  }
 ],
 "metadata": {
  "kernelspec": {
   "display_name": "mol_transformer",
   "language": "python",
   "name": "python3"
  },
  "language_info": {
   "codemirror_mode": {
    "name": "ipython",
    "version": 3
   },
   "file_extension": ".py",
   "mimetype": "text/x-python",
   "name": "python",
   "nbconvert_exporter": "python",
   "pygments_lexer": "ipython3",
   "version": "3.11.8"
  }
 },
 "nbformat": 4,
 "nbformat_minor": 2
}
